{
  "nbformat": 4,
  "nbformat_minor": 0,
  "metadata": {
    "colab": {
      "name": "Exercícios Organizados.ipynb",
      "provenance": [],
      "toc_visible": true,
      "authorship_tag": "ABX9TyOOJBvBagdEDCgg6iuEbT1f",
      "include_colab_link": true
    },
    "kernelspec": {
      "name": "python3",
      "display_name": "Python 3"
    },
    "language_info": {
      "name": "python"
    }
  },
  "cells": [
    {
      "cell_type": "markdown",
      "metadata": {
        "id": "view-in-github",
        "colab_type": "text"
      },
      "source": [
        "<a href=\"https://colab.research.google.com/github/everbass/everbass/blob/main/Exerc%C3%ADcios_Organizados.ipynb\" target=\"_parent\"><img src=\"https://colab.research.google.com/assets/colab-badge.svg\" alt=\"Open In Colab\"/></a>"
      ]
    },
    {
      "cell_type": "markdown",
      "source": [
        "#Desafio001 - Exercício testando input de informação, atribuição em variável,  retorno em cores de formas variadas. Usando dicionário de cores."
      ],
      "metadata": {
        "id": "ncvFP5-vSnCQ"
      }
    },
    {
      "cell_type": "code",
      "source": [
        "cores = {'limpa': '\\033[m',\n",
        "      'azul': '\\033[1;34m',\n",
        "      'amarelo': '\\033[1;33m',\n",
        "      'vermelho': '\\033[1;31m',\n",
        "      'verde': '\\033[1;32m',\n",
        "      'branco': '\\033[7;40m'}\n",
        "print('\\033[1;34m-x-\\033[m'*40)\n",
        "print('\\033[33mPrograma inicial que lê o nome da pessoa e retorna uma mensagem de boas vindas!!!\\033[m')\n",
        "print('\\033[1;34m-x-\\033[m'*40)\n",
        "nome = input(\"Qual é seu nome? \")\n",
        "print(\"Olá\"'\\033[1;32m',nome,'\\033[m!''\\033[7;40mPrazer em te conhecer!\\033[m')\n",
        "print('Olá {}{}{}! {}Prazer em te conhecer!{}'.format(cores['verde'], nome,cores['limpa'],cores['branco'],cores['limpa']))"
      ],
      "metadata": {
        "colab": {
          "base_uri": "https://localhost:8080/"
        },
        "id": "cRWjY2fWSwJu",
        "outputId": "6b80eb95-bc6f-45fa-9be4-ef1b6f662ea6"
      },
      "execution_count": null,
      "outputs": [
        {
          "output_type": "stream",
          "name": "stdout",
          "text": [
            "\u001b[1;34m-x-\u001b[m\u001b[1;34m-x-\u001b[m\u001b[1;34m-x-\u001b[m\u001b[1;34m-x-\u001b[m\u001b[1;34m-x-\u001b[m\u001b[1;34m-x-\u001b[m\u001b[1;34m-x-\u001b[m\u001b[1;34m-x-\u001b[m\u001b[1;34m-x-\u001b[m\u001b[1;34m-x-\u001b[m\u001b[1;34m-x-\u001b[m\u001b[1;34m-x-\u001b[m\u001b[1;34m-x-\u001b[m\u001b[1;34m-x-\u001b[m\u001b[1;34m-x-\u001b[m\u001b[1;34m-x-\u001b[m\u001b[1;34m-x-\u001b[m\u001b[1;34m-x-\u001b[m\u001b[1;34m-x-\u001b[m\u001b[1;34m-x-\u001b[m\u001b[1;34m-x-\u001b[m\u001b[1;34m-x-\u001b[m\u001b[1;34m-x-\u001b[m\u001b[1;34m-x-\u001b[m\u001b[1;34m-x-\u001b[m\u001b[1;34m-x-\u001b[m\u001b[1;34m-x-\u001b[m\u001b[1;34m-x-\u001b[m\u001b[1;34m-x-\u001b[m\u001b[1;34m-x-\u001b[m\u001b[1;34m-x-\u001b[m\u001b[1;34m-x-\u001b[m\u001b[1;34m-x-\u001b[m\u001b[1;34m-x-\u001b[m\u001b[1;34m-x-\u001b[m\u001b[1;34m-x-\u001b[m\u001b[1;34m-x-\u001b[m\u001b[1;34m-x-\u001b[m\u001b[1;34m-x-\u001b[m\u001b[1;34m-x-\u001b[m\n",
            "\u001b[33mPrograma inicial que lê o nome da pessoa e retorna uma mensagem de boas vindas!!!\u001b[m\n",
            "\u001b[1;34m-x-\u001b[m\u001b[1;34m-x-\u001b[m\u001b[1;34m-x-\u001b[m\u001b[1;34m-x-\u001b[m\u001b[1;34m-x-\u001b[m\u001b[1;34m-x-\u001b[m\u001b[1;34m-x-\u001b[m\u001b[1;34m-x-\u001b[m\u001b[1;34m-x-\u001b[m\u001b[1;34m-x-\u001b[m\u001b[1;34m-x-\u001b[m\u001b[1;34m-x-\u001b[m\u001b[1;34m-x-\u001b[m\u001b[1;34m-x-\u001b[m\u001b[1;34m-x-\u001b[m\u001b[1;34m-x-\u001b[m\u001b[1;34m-x-\u001b[m\u001b[1;34m-x-\u001b[m\u001b[1;34m-x-\u001b[m\u001b[1;34m-x-\u001b[m\u001b[1;34m-x-\u001b[m\u001b[1;34m-x-\u001b[m\u001b[1;34m-x-\u001b[m\u001b[1;34m-x-\u001b[m\u001b[1;34m-x-\u001b[m\u001b[1;34m-x-\u001b[m\u001b[1;34m-x-\u001b[m\u001b[1;34m-x-\u001b[m\u001b[1;34m-x-\u001b[m\u001b[1;34m-x-\u001b[m\u001b[1;34m-x-\u001b[m\u001b[1;34m-x-\u001b[m\u001b[1;34m-x-\u001b[m\u001b[1;34m-x-\u001b[m\u001b[1;34m-x-\u001b[m\u001b[1;34m-x-\u001b[m\u001b[1;34m-x-\u001b[m\u001b[1;34m-x-\u001b[m\u001b[1;34m-x-\u001b[m\u001b[1;34m-x-\u001b[m\n",
            "Qual é seu nome? Everton\n",
            "Olá\u001b[1;32m Everton \u001b[m!\u001b[7;40mPrazer em te conhecer!\u001b[m\n",
            "Olá \u001b[1;32mEverton\u001b[m! \u001b[7;40mPrazer em te conhecer!\u001b[m\n"
          ]
        }
      ]
    },
    {
      "cell_type": "markdown",
      "source": [
        "#Desafio002 - Programa que recebe cadastro simples com nome, dia mês e anos de nascimento e retorna uma mensagem. Usa dicionário de cores."
      ],
      "metadata": {
        "id": "3QzzRJ0uUkUj"
      }
    },
    {
      "cell_type": "code",
      "source": [
        "cores = {'limpa' : '\\033[m',\n",
        "      'azul' : '\\033[1;34m',\n",
        "      'amarelo' : '\\033[1;33m',\n",
        "      'vermelho' : '\\033[1;31m',\n",
        "      'verde' : '\\033[1;32m',\n",
        "      'branco': '\\033[7;30m'}\n",
        "print()\n",
        "\n",
        "nome = input('Qual o seu nome? ')\n",
        "dia = input('Em que dia você nasceu? ')\n",
        "mes = input('De qual mês? ')\n",
        "ano = input('De qual ano mesmo? ')\n",
        "print(\"Obrigado \",'\\033[32m',nome,'\\033[',\", só para confirmar, você nasceu em\",dia, \"de\",mes, \"de\", ano,\". Confere?\")"
      ],
      "metadata": {
        "colab": {
          "base_uri": "https://localhost:8080/"
        },
        "id": "p0LFYag6UjIx",
        "outputId": "7161f49a-28f1-4a5a-d730-a9294ca89579"
      },
      "execution_count": 6,
      "outputs": [
        {
          "output_type": "stream",
          "name": "stdout",
          "text": [
            "\n",
            "Qual o seu nome? Everton\n",
            "Em que dia você nasceu? 6\n",
            "De qual mês? 12\n",
            "De qual ano mesmo? 1978\n",
            "Obrigado  \u001b[32m Everton \u001b[ , só para confirmar, você nasceu em 6 de 12 de 1978 . Confere?\n"
          ]
        }
      ]
    },
    {
      "cell_type": "markdown",
      "source": [
        "#Desafio003 - Crie um programa que leia dois números e mostre a soma entre eles."
      ],
      "metadata": {
        "id": "j1iLPmUCVzXR"
      }
    },
    {
      "cell_type": "code",
      "source": [
        "#na primeira vez foi feito sem format, usando  variáveis.\n",
        "#num1 = int(input(\"Qual o primeiro número? \"))\n",
        "#a = num1\n",
        "#num2 = int(input(\"Qual o segundo número? \"))\n",
        "#b = num2\n",
        "#c = a + b\n",
        "#print(\"A soma é: \",c)\n",
        "#FAzendo uma segunda vez, com menos variáveis, importando sleep, usando um dicionário de cores e o método format.\n",
        "from time import sleep\n",
        "cores = {'verde':'\\033[1;32m', #verde bold\n",
        "         'vermelho':'\\033[1;31m',\n",
        "         'amarelo': '\\033[1;33m',\n",
        "         'limpa': '\\033[m'}\n",
        "print('{}=§==§==§==§==§==§==§==§==§==§==§==§==§={}'.format(cores['amarelo'],cores['limpa']))\n",
        "print('{}CALCULADORA PARA SOMA DE DOIS NÚMEROS{}'.format(cores['vermelho'],cores['limpa']))\n",
        "print('{}=§==§==§==§==§==§==§==§==§==§==§==§==§={}'.format(cores['amarelo'],cores['limpa']))\n",
        "a = int(input('Digite o primeiro valor que pretende somar: '))\n",
        "b = int(input('Digite o segundo valor que pretende somar: '))\n",
        "c = a + b\n",
        "print('{}Calculando...{}'.format(cores['verde'],cores['limpa']))\n",
        "sleep(2)\n",
        "print('O resultado da soma de {}{}{} e {}{}{} é {}{}{}!!!'.format(cores['verde'],a,cores['limpa'],cores['vermelho'],b,cores['limpa'],cores['amarelo'],c,cores['limpa']))"
      ],
      "metadata": {
        "colab": {
          "base_uri": "https://localhost:8080/"
        },
        "id": "-KgZrBJ2V3I2",
        "outputId": "68bb446f-18da-488a-fe54-8560c1287d67"
      },
      "execution_count": 7,
      "outputs": [
        {
          "output_type": "stream",
          "name": "stdout",
          "text": [
            "\u001b[1;33m=§==§==§==§==§==§==§==§==§==§==§==§==§=\u001b[m\n",
            "\u001b[1;31mCALCULADORA PARA SOMA DE DOIS NÚMEROS\u001b[m\n",
            "\u001b[1;33m=§==§==§==§==§==§==§==§==§==§==§==§==§=\u001b[m\n",
            "Digite o primeiro valor que pretende somar: 45\n",
            "Digite o segundo valor que pretende somar: 99\n",
            "\u001b[1;32mCalculando...\u001b[m\n",
            "O resultado da soma de \u001b[1;32m45\u001b[m e \u001b[1;31m99\u001b[m é \u001b[1;33m144\u001b[m!!!\n"
          ]
        }
      ]
    },
    {
      "cell_type": "markdown",
      "source": [
        "#Desafio004 - Faça um programa que leia algo pelo teclado *e* mostre na tela o seu tipo primitivo e todas as informações possíveis sobre ele."
      ],
      "metadata": {
        "id": "QK_uXHIiNodT"
      }
    },
    {
      "cell_type": "code",
      "source": [
        "#x = input('Digite qualquer coisa: ')\n",
        "\n",
        "#print('Você digitou {} e agora vamos saber sobre os tipos primitivos a ele associados'.format(x))\n",
        "#print('O tipo primitivo de {} é:'.format((x)), type(x))\n",
        "#print('o VALOR DIGITADO - {} - É ALPHANUMÉRICO? Resposta: '.format(x),x.isalnum())\n",
        "#print('o VALOR DIGITADO É ALPHA? Resposta: ',x.isalpha())\n",
        "#print('o VALOR DIGITADO É NUMÉRICO? Resposta: ',x.isnumeric())\n",
        "#print('o VALOR DIGITADO ESTÁ EM CAIXA ALTA? Resposta: ',x.isupper())\n",
        "#print('A palavra digitada está capitalizada? Ou seja, com a primeira maiúscula apenas: ', x.istitle())\n",
        "\n",
        "#Refazendo o teste usando cores.\n",
        "\n",
        "x = input('\\033[1:33mDigite qualquer coisa no teclado e vamos descobrir algumas características dela!\\033[m')\n",
        "print('O tipo primitivo do que vc digitou ({}{}\\033[m) é: '.format('\\033[32m',x),type(x))\n",
        "print('O que foi digitado ({}) é alpha numérico? '.format(x),x.isalnum())\n",
        "print('O que foi digitado ({}) é alpha? Resposta: '.format(x),x.isalpha())\n",
        "print('Essa verdade - {}{}{} - está em letras garrafais? '.format('\\033[32m',x,'\\033[m'),x.isupper())\n",
        "print('A frase está - {} - está no estilo title? '.format(x),x.istitle())\n",
        "print('A frase - {} - possui \\033[32m{}\\033[m caracteres.'.format(x,len(x)))"
      ],
      "metadata": {
        "id": "Fh9nkJa_N6AD"
      },
      "execution_count": null,
      "outputs": []
    },
    {
      "cell_type": "markdown",
      "source": [
        "#Desafio005 - Faça um programa que leia um número Inteiro e mostre na tela o seu sucessor e seu antecessor."
      ],
      "metadata": {
        "id": "ZgcJf6zHN-KS"
      }
    },
    {
      "cell_type": "code",
      "source": [
        "#a = int(input('Digite um número: '))\n",
        "#b = a - 1\n",
        "#c = a + 1\n",
        "#print('Número digitado {}. \\nSeu antecessor: {}. \\nSeu sucessor: {}.'.format(a, b, c))\n",
        "\n",
        "print('\\033[1;33m*-\\033[m'*60)\n",
        "print('Olá, seja bem vindo ao sistema que calcula o número posterior e o número anterior ao que você digitou')\n",
        "print('\\033[1;33m*-\\033[m'*60)\n",
        "n = int(input('\\nVamos lá, digite um número inteiro qualquer: '))\n",
        "a = n-1\n",
        "p = n+1\n",
        "print('O número digitado foi \\33[1;36m{}\\33[m.'.format(n))\n",
        "print('Seu antecessor é: \\33[1;35m{}\\33[m'.format(a))\n",
        "print('Seu sucessor é: \\33[1;33m{}\\33[m'.format(p))"
      ],
      "metadata": {
        "id": "QDY-c4QlOMfZ"
      },
      "execution_count": null,
      "outputs": []
    },
    {
      "cell_type": "markdown",
      "source": [
        "#Desafio006 - Crie um algoritmo que leia um número e mostre o seu dobro, triplo e raiz quadrada."
      ],
      "metadata": {
        "id": "JBrz7ls1OWKA"
      }
    },
    {
      "cell_type": "code",
      "source": [
        "#=a = float(input('Digite um número: '))\n",
        "#=d = a * 2\n",
        "#=t = a * 3\n",
        "#=rq = a ** (1/2)\n",
        "#print('O número digitado foi {}.\\nSeu dobro é igual a {}.\\nSeu triplo é igual a {}.'.format(a, d, t), end=' ')\n",
        "#print('Sua raiz quadrada é igual a {:.4f}'.format(rq))\n",
        "# o end = ' ' permite concatenar strings questão em linhas separadas.\n",
        "# REFAZENDO\n",
        "print('\\033[35m#\\033[m'*100)\n",
        "print('\\033[7;32mConheça a calculadora que dobra seu número, triplica seu número e mostra raiz quadrada dele.\\033[m ')\n",
        "print('\\033[35m#\\033[m'*100)\n",
        "n = float(input('\\nDigite um número qualquer: '))\n",
        "print('O \\033[4mdobro\\033[m de \\033[1;32m{:.2f}\\033[m é \\033[1;36m{:.2f}\\033[m!'.format(n,n*2))\n",
        "print('Seu \\033[4mtriplo\\033[m é \\033[1;33m{:.2f}\\033[m'.format(n*3))\n",
        "print('E sua \\033[4mraiz quadrada\\033[m é \\033[1;31m{:.2f}\\033[m!'.format(n**(1/2)))\n",
        "print('\\n')\n",
        "print('\\033[35m#\\033[m'*100)"
      ],
      "metadata": {
        "id": "u4EnZNCEOgpw"
      },
      "execution_count": null,
      "outputs": []
    },
    {
      "cell_type": "markdown",
      "source": [
        "#Desafio007 - Desenvolva um programa que leia as duas notas de um aluno, calcule e mostre a sua média."
      ],
      "metadata": {
        "id": "lNLzIHsROsLs"
      }
    },
    {
      "cell_type": "code",
      "source": [
        "#n1 = float(input('A primeira nota foi: '))\n",
        "#n2 = float(input('A segunda nota foi: '))\n",
        "#m = (n1 + n2) / 2\n",
        "#print('Primeira nota: {}.\\nSegunda nota: {}.\\nSua média ficou em: {}.'.format(n1, n2, m))\n",
        "\n",
        "\n",
        "#Refazendo utilizando condições, cores, etc.\n",
        "print('\\033[1:35m*\\033[m'*80)\n",
        "print('Cálculo que indica \\033[1;32maprovação\\033[m ou \\033[1;31mreprovação\\033[m de alunos')\n",
        "print('\\033[1:35m*\\033[m'*80)\n",
        "nome = str(input('Digite seu nome: ')).upper().split()\n",
        "nome = (' '.join(nome))\n",
        "a = float(input('A nota do primeiro bimestre foi: '))\n",
        "b = float(input('A nota do primeiro bimestre foi: '))\n",
        "c = float(input('A nota do primeiro bimestre foi: '))\n",
        "d = float(input('A nota do primeiro bimestre foi: '))\n",
        "m = (a+b+c+d)/4\n",
        "if m >= 7:\n",
        "    print('PARABÉNS {}, sua média foi {}. Você está \\033[1;42mAPROVADO\\033[m!!!'.format(nome, m))\n",
        "else:\n",
        "    print('FERROU {}, sua média foi {}. Você está \\033[1;41mREPROVADO\\033[m!!!'.format(nome, m))"
      ],
      "metadata": {
        "id": "c-sJxS4gO0Rg"
      },
      "execution_count": null,
      "outputs": []
    },
    {
      "cell_type": "markdown",
      "source": [
        "#Desafio008 - Digite um programa que receba um valor em metros e o converta para cm e mm\n"
      ],
      "metadata": {
        "id": "sjyexzYjO7dr"
      }
    },
    {
      "cell_type": "code",
      "source": [
        "vm = float(input('Digite o valor em metros que deseja converter: '))\n",
        "vc = vm * 100\n",
        "mm = vm * 1000\n",
        "print('\\033[1;31m{:.2f} metros\\033[m correspondem a:\\n\\033[1;32m{:.0f} centímetros\\033[m.\\n\\033[1;36m{:.0f} milímetros\\033[m.'.format(vm, vc, mm))\n"
      ],
      "metadata": {
        "colab": {
          "base_uri": "https://localhost:8080/"
        },
        "id": "6e1HNpo_POLm",
        "outputId": "915bf4ec-50a3-4cb7-e670-8b425252b1b7"
      },
      "execution_count": 3,
      "outputs": [
        {
          "output_type": "stream",
          "name": "stdout",
          "text": [
            "Digite o valor em metros que deseja converter: 100\n",
            "\u001b[1;31m100.00 metros\u001b[m correspondem a:\n",
            "\u001b[1;32m10000 centímetros\u001b[m.\n",
            "\u001b[1;36m100000 milímetros\u001b[m.\n"
          ]
        }
      ]
    },
    {
      "cell_type": "markdown",
      "source": [
        "#Desafio009 - Crie uma calculadora que mostre a tabuada de 1 a 10 do número indicado pelo usuário."
      ],
      "metadata": {
        "id": "lAmc-HPTP-VA"
      }
    },
    {
      "cell_type": "code",
      "source": [
        "n = int(input('Escolha qual o número para montarmos a tabuada: '))\n",
        "\n",
        "print('-'*15)\n",
        "print('{} x 01 = \\033[33m{}\\033['.format(n, n*1))\n",
        "print('{} x 02 = \\033[33m{}\\033['.format(n, n*2))\n",
        "print('{} x 03 = \\033[33m{}\\033['.format(n, n*3))\n",
        "print('{} x 04 = \\033[33m{}\\033['.format(n, n*4))\n",
        "print('{} x 05 = \\033[33m{}\\033['.format(n, n*5))\n",
        "print('{} x 06 = \\033[33m{}\\033['.format(n, n*6))\n",
        "print('{} x 07 = \\033[33m{}\\033['.format(n, n*7))\n",
        "print('{} x 08 = \\033[33m{}\\033['.format(n, n*8))\n",
        "print('{} x 09 = \\033[33m{}\\033['.format(n, n*9))\n",
        "print('{} x 10 = \\033[33m{}\\033['.format(n, n*10))\n",
        "print('-'*15)\n",
        "\n",
        "## alternativamente: print('{} x {:2} = {}'.format(num, 1, num * 1))"
      ],
      "metadata": {
        "colab": {
          "base_uri": "https://localhost:8080/"
        },
        "id": "UEPWzQrNQSFa",
        "outputId": "b4590a13-f2d6-4db0-92b1-6556ee80574e"
      },
      "execution_count": 5,
      "outputs": [
        {
          "output_type": "stream",
          "name": "stdout",
          "text": [
            "Escolha qual o número para montarmos a tabuada: 5\n",
            "---------------\n",
            "5 x 01 = \u001b[33m5\u001b[\n",
            "5 x 02 = \u001b[33m10\u001b[\n",
            "5 x 03 = \u001b[33m15\u001b[\n",
            "5 x 04 = \u001b[33m20\u001b[\n",
            "5 x 05 = \u001b[33m25\u001b[\n",
            "5 x 06 = \u001b[33m30\u001b[\n",
            "5 x 07 = \u001b[33m35\u001b[\n",
            "5 x 08 = \u001b[33m40\u001b[\n",
            "5 x 09 = \u001b[33m45\u001b[\n",
            "5 x 10 = \u001b[33m50\u001b[\n",
            "---------------\n"
          ]
        }
      ]
    },
    {
      "cell_type": "markdown",
      "source": [
        "#Desafio010 - Crie um programa que converta REAIS para DOLAR de acordo com o valor da moeda do dia."
      ],
      "metadata": {
        "id": "8eQJoY17TCcH"
      }
    },
    {
      "cell_type": "code",
      "source": [
        "print('>'*60)\n",
        "reais = float(input('Quantos reais você tem na carteira: R$ ').replace(',','.').replace(' ',''))\n",
        "us = float(input('Qual o valor da moeda americana neste momento: ').replace(',','.').replace(' ',''))\n",
        "cambio = reais/us\n",
        "print('Seus \\033[32m{:.2f}\\033[m reais equivalem a \\033[36m{:.2f}\\033[m dólares.'.format(reais, cambio))\n",
        "print('<'*60)"
      ],
      "metadata": {
        "id": "8exMtGznTOXk"
      },
      "execution_count": null,
      "outputs": []
    },
    {
      "cell_type": "markdown",
      "source": [
        "#Desafio011 - Escreva um programa que leia a altura e largura de uma parede e mostre quantos litros de tinta serão necessários para pintar tudo, sabendo que o rendimento da tinta é de 1l para 2m²"
      ],
      "metadata": {
        "id": "kwk-1159TVan"
      }
    },
    {
      "cell_type": "code",
      "source": [
        "a = float(input('Qual a altura, em metros, da parede que deseja pintar: ').replace(',','.').replace(' ',''))\n",
        "l = float(input('Qual a largura da parede que deseja pintar: ').replace(',','.').replace(' ',''))\n",
        "ar = a * l\n",
        "lt = (ar/2)\n",
        "print('Uma parede com \\033[1;32m{:.2f}m²\\033[m de altura e \\033[1;33m{:.2f}m²\\033[m de largura possui \\033[1;34m{:.2f}m²\\033[m de área'.format(a, l, ar))\n",
        "print('Sabendo que o rendimento de 1 litro de tinta é de 2m² quadrados, é necessário \\033[1;35m{:.2f}\\033[m litros de tinta'.format(lt))"
      ],
      "metadata": {
        "colab": {
          "base_uri": "https://localhost:8080/"
        },
        "id": "-PknokpATiXK",
        "outputId": "e6a07a99-7e59-4bb9-cd01-8c1842a4a801"
      },
      "execution_count": 6,
      "outputs": [
        {
          "output_type": "stream",
          "name": "stdout",
          "text": [
            "Qual a altura, em metros, da parede que deseja pintar: 10\n",
            "Qual a largura da parede que deseja pintar: 5\n",
            "Uma parede com \u001b[1;32m10.00m²\u001b[m de altura e \u001b[1;33m5.00m²\u001b[m de largura possui \u001b[1;34m50.00m²\u001b[m de área\n",
            "Sabendo que o rendimento de 1 litro de tinta é de 2m² quadrados, é necessário \u001b[1;35m25.00\u001b[m litros de tinta\n"
          ]
        }
      ]
    },
    {
      "cell_type": "markdown",
      "source": [
        "#Desafio012 - Crie calculadora que receba o preço de etiqueta e que mostre um novo preço com 5% de desconto e o valor do desconto.\n",
        "\n"
      ],
      "metadata": {
        "id": "jMO5ChhRT60S"
      }
    },
    {
      "cell_type": "code",
      "source": [
        "#p1 = float(input('Digite o preço de etiqueta: '))\n",
        "##desc = .95\n",
        "#p2 = p1 * desc\n",
        "#p3 = p1 - p2\n",
        "#print('O preço original do produto é de R$ {:.2f}. Porém, com desconto de 5% você vai pagar apenas R$ {:.2f}.'.format(p1, p2), end = '')\n",
        "#print(' Em reais, o desconto foi de R$ {:.2f}.'.format(p3))\n",
        "\n",
        "##alternativamente\n",
        "## novopreço = preço - (preço x 5/100)\n",
        "\n",
        "preco = float(input('Entre com o preço de etiqueta: ').replace(',','.').replace(' ',''))\n",
        "novo = preco - (preco * 5/100)\n",
        "print('O preço que era originalmente de \\033[1;32mR$ {:.2f}\\033[m, com o desconto de 5% ficou em \\033[1;36mR$ {:.2f}\\033[m!'.format(preco,novo), end = ' ')\n",
        "print('O desconto foi de \\033[1;31mR$ {:.2f}\\033[m!'.format(preco-novo))"
      ],
      "metadata": {
        "id": "W-RKmQ9wTzFp"
      },
      "execution_count": null,
      "outputs": []
    },
    {
      "cell_type": "markdown",
      "source": [
        "#Desafio013 - Faça um algoritmo que leia o salário de um funcionário e mostre seu novo salário, com 15% de aumento."
      ],
      "metadata": {
        "id": "h1uDpQR4UmYB"
      }
    },
    {
      "cell_type": "code",
      "source": [
        "#Faça um algoritmo que leia o salário de um funcionário e mostre seu novo salário, com 15% de aumento.\n",
        "#s = float(input('Seu salário é: '))\n",
        "#va = 15\n",
        "#ns = s +(s * va / 100)\n",
        "#a = (print('Com o aumento de 15% seu salário agora é de R$ {:.2f}'.format(ns)))\n",
        "#sal = sal + (sal*15/100)\n",
        "\n",
        "#REFAZENDO\n",
        "sal = float(input('Entre com o valor do seu salário atual: R$ ').replace(' ',''))\n",
        "print('Com o aumento de 15%, seu salário que era de \\033[1;34mR$ {:.2f}\\033[m passa a ser de \\033[1;35mR$ {:.2f}\\033[m.'.format(sal,(sal+ (sal * 15/100))))"
      ],
      "metadata": {
        "id": "djiuQyDCWvHV"
      },
      "execution_count": null,
      "outputs": []
    },
    {
      "cell_type": "markdown",
      "source": [
        "#Desafio014 - Conversor de temperatura de celsius para outras unidades de medida"
      ],
      "metadata": {
        "id": "gFl-yNSoW2-b"
      }
    },
    {
      "cell_type": "code",
      "source": [
        "#c = float(input('Informe a temperatura em ºC: '))\n",
        "#f = ((9 * c) / 5)+32\n",
        "#print('A temperatura de {:.2f}º Celsius corresponde a {:.2f}º Fahrenreit.'.format(c, f))\n",
        "\n",
        "t = float(input('Informe a temperatura em ºC que deseja converter para ºf: '))\n",
        "print('{:.2f}º Celsius correspondem a {:.2f}º fahrenheit.'.format(t,((9 * t)/5)+32))"
      ],
      "metadata": {
        "colab": {
          "base_uri": "https://localhost:8080/"
        },
        "id": "9TP7lBsYXFhH",
        "outputId": "336a39d4-662d-4407-dbdd-ee97e7b3fd9c"
      },
      "execution_count": 7,
      "outputs": [
        {
          "output_type": "stream",
          "name": "stdout",
          "text": [
            "Informe a temperatura em ºC que deseja converter para ºf: 30\n",
            "30.00º Celsius correspondem a 86.00º fahrenheit.\n"
          ]
        }
      ]
    },
    {
      "cell_type": "markdown",
      "source": [
        "#Desafio015 - programa para Aluguel de carros - Km que cobre por km percorridos e quantidade de dias. R$ 60,00 por dia e R$ 0.15 por km rodado."
      ],
      "metadata": {
        "id": "4037_QxEhjKD"
      }
    },
    {
      "cell_type": "code",
      "source": [
        "dias = int(input('Quantos dias de locação: '))\n",
        "km = float(input('Quantos km foram rodados: '))\n",
        "pago = (dias * 60) + (km * 0.15)\n",
        "print('O valor total a ser pago é de R$ {:.2f}.'.format(pago))"
      ],
      "metadata": {
        "id": "zUcMLYSbhxtE"
      },
      "execution_count": null,
      "outputs": []
    },
    {
      "cell_type": "markdown",
      "source": [
        "#Desafio016 - Crie um programa que leia um número Real qualquer pelo teclado e mostre na tela a sua porção Inteira. Método trunc"
      ],
      "metadata": {
        "id": "sqqCTrhFh1CY"
      }
    },
    {
      "cell_type": "code",
      "source": [
        "#import math\n",
        "#n = float(input('Digite um número: '))\n",
        "#print('A porção inteira de {} é {}.'.format(n, math.trunc(n)))\n",
        "\n",
        "#REFAZENDO\n",
        "from math import trunc\n",
        "n = float(input('Digite um número: '))\n",
        "print('A parte inteira do número \\033[1;35m{:.2f}\\033[m é igual a \\033[1;34m{}\\033[m. '.format(n,trunc(n)))\n"
      ],
      "metadata": {
        "id": "fJ6Zzpe3iBNU"
      },
      "execution_count": null,
      "outputs": []
    },
    {
      "cell_type": "markdown",
      "source": [
        "#Desafio017 - Descobrir o valor da hipotenusa a partir dos catetos. Biblioteca de matemática - math"
      ],
      "metadata": {
        "id": "nsb2ObOZiKjU"
      }
    },
    {
      "cell_type": "code",
      "source": [
        "import math\n",
        "a = float(input('Qual o tamanho do cateto oposto: '))\n",
        "b = float(input('Qual o tamanho do cateto adjacente: '))\n",
        "#c = ((a**2) + (b**2))**(1/2)\n",
        "print('O valor da hipotenusa é {}'.format(math.hypot(a,b)))\n",
        "#print(c)"
      ],
      "metadata": {
        "id": "NTgvat5fi3zg"
      },
      "execution_count": null,
      "outputs": []
    },
    {
      "cell_type": "markdown",
      "source": [
        "#Desafio018 - Programa que lê um ângulo qualquer e retorna na tela o valor do seno, cosseno e tangente."
      ],
      "metadata": {
        "id": "f9dL8YeNNnF-"
      }
    },
    {
      "cell_type": "code",
      "source": [
        "#import math\n",
        "#a = float(input('Qual o valor do ângulo: '))\n",
        "#s = math.sin(math.radians(a))\n",
        "#c = math.cos(math.radians(a))\n",
        "#t = math.tan(math.radians(a))\n",
        "#print('O seno de {:.2f} é: {:.2f}.\\nO cosseno é: {:.2f}.\\nA tangente é: {:.2f}.'.format(a,s,c,t))\n",
        "\n",
        "from math import (sin, cos, tan, radians)\n",
        "a = float(input('Insira o valor do ângulo: '))\n",
        "s = sin(radians(a))\n",
        "c = cos(radians(a))\n",
        "t = tan(radians(a))\n",
        "print(a,s,c,t)"
      ],
      "metadata": {
        "id": "UXuOHvUaOE9_"
      },
      "execution_count": null,
      "outputs": []
    },
    {
      "cell_type": "markdown",
      "source": [
        "#Desafio019 - Uso da classe random e método choice. Sorteio de um nome. Uso de listas. Duas formas feitas."
      ],
      "metadata": {
        "id": "AVUHBV1kOInU"
      }
    },
    {
      "cell_type": "code",
      "source": [
        "import random\n",
        "n1 = str(input('Qual o nome do primeiro aluno: '))\n",
        "n2 = str(input('Qual o nome do segundo aluno: '))\n",
        "n3 = str(input('Qual o nome do terceiro aluno: '))\n",
        "n4 = str(input('Qual o nome do quarto aluno: '))\n",
        "lista = [n1, n2, n3, n4]\n",
        "escolhido = random.choice(lista)\n",
        "#classe random, método choice aplicado numa lista.\n",
        "print('O aluno escolhido para apagar o quadro foi: {}.'.format(escolhido))\n",
        "\n",
        "#REFAZENDO\n",
        "import random\n",
        "print('Bem vindo ao sorteador de jogador. A seguir, digite o nome dos 4 jogadores: ')\n",
        "j1 = input('Digite o nome do primeiro jogador: ').upper().split()\n",
        "j1 = (' '.join(j1))\n",
        "j2 = input('Digite o nome do segundo jogador: ').upper().split()\n",
        "j2 = (' '.join(j2))\n",
        "j3 = input('Digite o nome do terceiro jogador: ').upper().split()\n",
        "j3 = (' '.join(j3))\n",
        "j4 = input('Digite o nome do quarto jogador: ').upper().split()\n",
        "j4 = (' '.join(j4))\n",
        "time = [j1, j2, j3, j4]\n",
        "escolhido = random.choice(time)\n",
        "print('O jogador escolhido foi: \\033[1;36m{}!!!\\033[m'.format(escolhido))"
      ],
      "metadata": {
        "colab": {
          "base_uri": "https://localhost:8080/"
        },
        "id": "8KcvXN8aOc_Z",
        "outputId": "487de87e-0531-47b2-8c77-f27146707658"
      },
      "execution_count": 1,
      "outputs": [
        {
          "output_type": "stream",
          "name": "stdout",
          "text": [
            "Qual o nome do primeiro aluno: EVe\n",
            "Qual o nome do segundo aluno: maria\n",
            "Qual o nome do terceiro aluno: vania\n",
            "Qual o nome do quarto aluno: sedor\n",
            "O aluno escolhido para apagar o quadro foi: sedor.\n",
            "Bem vindo ao sorteador de jogador. A seguir, digite o nome dos 4 jogadores: \n",
            "Digite o nome do primeiro jogador: ever\n",
            "Digite o nome do segundo jogador: tenda\n",
            "Digite o nome do terceiro jogador: simo\n",
            "Digite o nome do quarto jogador: fghf\n",
            "O jogador escolhido foi: \u001b[1;36mTENDA!!!\u001b[m\n"
          ]
        }
      ]
    },
    {
      "cell_type": "markdown",
      "source": [
        "#Desafio020 - Sortear ordem de alunos para fazer uma apresentação classe random método shuffle"
      ],
      "metadata": {
        "id": "EBH9t7dqQAL2"
      }
    },
    {
      "cell_type": "code",
      "source": [
        "#from random import shuffle\n",
        "#n1 = str(input('Primeiro nome: '))\n",
        "#n2 = str(input('Segundo nome: '))\n",
        "#n3 = str(input('Terceiro nome: '))\n",
        "#n4 = str(input('Quarto nome: '))\n",
        "#lista = [n1, n2, n3, n4]\n",
        "#shuffle(lista)\n",
        "#print('A ordem de apresentação será ')\n",
        "#print(lista)\n",
        "\n",
        "#REFAZENDO\n",
        "\n",
        "import random\n",
        "import time\n",
        "print('\\033[1;32m***Bem vindo ao sorteador de ordem de jogo. Insira o nome dos jogadores e aguarde o sorteio***\\033[m')\n",
        "j1 = input('Digite o nome do primeiro jogador: ').upper().split()\n",
        "j1 = (' '.join(j1))\n",
        "j2 = input('Digite o nome do segundo jogador: ').upper().split()\n",
        "j2 = (' '.join(j2))\n",
        "j3 = input('Digite o nome do terceiro jogador: ').upper().split()\n",
        "j3 = (' '.join(j3))\n",
        "j4 = input('Digite o nome do quarto jogador: ').upper().split()\n",
        "j4 = (' '.join(j4))\n",
        "jogadores = [j1, j2, j3, j4]\n",
        "random.shuffle(jogadores)\n",
        "print(\"\\n\\033[1;36mMisturando...\\033[m\")\n",
        "time.sleep(3)\n",
        "print('A ordem de jogo é a seguinte: ')\n",
        "print('O primeiro jogador será: {}!'.format(jogadores[0]))\n",
        "print('O segundo jogador será: {}!'.format(jogadores[1]))\n",
        "print('O terceiro jogador será: {}!'.format(jogadores[2]))\n",
        "print('O quarto jogador será: {}!'.format(jogadores[3]))\n",
        "#print(jogadores)\n",
        "print('Bom jogo e lembrem-se. O importante não é ganhar... ')\n",
        "time.sleep(2)\n",
        "print('\\033[1;32mO IMPORTANTE É HUMILHAR O ADVERSÁRIO!!!\\033[m')"
      ],
      "metadata": {
        "id": "Im0hrhJIQmun"
      },
      "execution_count": null,
      "outputs": []
    },
    {
      "cell_type": "markdown",
      "source": [
        "#Desafio022 - programa que leia o nome e mostre 1) nome com todas as letas maiúsculas 2) todas minúsculas 3) Todas as letras ao todo sem espaços 4) Quantas letras tem o primeiro nome"
      ],
      "metadata": {
        "id": "Js-IwGVpQ4lW"
      }
    },
    {
      "cell_type": "code",
      "source": [
        "nome = str(input('Digite seu nome e sobrenome: ')).strip() #strip vai eliminar espaços desnecessários\n",
        "\n",
        "#Todas maiúsculas\n",
        "print('Seu nome em letras maiúsculas é: {}.'.format(nome.upper()))\n",
        "\n",
        "#Todas minúsculas\n",
        "print('Seu nome em letras minúsculas é: {}.'.format(nome.lower()))\n",
        "\n",
        "#Contar letras sem espaços\n",
        "a = len(nome)\n",
        "b = nome.count(' ')\n",
        "#print(a,b)\n",
        "print('A quantidade de letras do seu nome é {}'.format(a-b))\n",
        "\n",
        "#Número de letras do primeiro nome\n",
        "#O find localiza o primeiro caractere especificado. No caso o primeiro espaço é justamente quando acaba o\n",
        "#primeiro nome. A posição retornada da o número de caracteres que formam o nome\n",
        "print('Seu primeiro nome tem {} letras.'.format(nome.find(' ')))\n",
        "\n",
        "#outra alternativa:\n",
        "separa = nome.split()\n",
        "print('Seu primeiro nome é {} e ele tem {} letras.'.format(separa[0],len(separa[0])))\n",
        "\n",
        "#REFAZENDO\n",
        "nome = str(input('Digite seu nome e sobrenome completo: '))\n",
        "print('Seu nome completo com letras maiúsculas é: {}.'.format(nome.upper()))\n",
        "print('Seu nome completo com letras minúsculas é: {}.'.format(nome.lower()))\n",
        "print('Seu nome completo sem os espaços contem: {}.'.format(len(nome.replace(' ',''))))\n",
        "print('Seu nome escrito sem os espaços é: {}.'.format(nome.replace(' ','')))\n",
        "primnome = nome.split()\n",
        "print('Seu primeiro nome tem {} letras.'.format(len(primnome[0])))\n",
        "print('Seu primeiro nome tem {} letras.'.format(nome.find(' ')))\n"
      ],
      "metadata": {
        "id": "JIOaRTPKTfDx"
      },
      "execution_count": null,
      "outputs": []
    },
    {
      "cell_type": "markdown",
      "source": [
        "#Desafio022 - Anotação sobre manipulação de strings"
      ],
      "metadata": {
        "id": "EQVX6-dobIXs"
      }
    },
    {
      "cell_type": "code",
      "source": [
        "#MANIPULAÇÃO DE DADOS, TRATAMETNO DE CADEIA DE CADACTERES\n",
        "frase = 'curso em video python'\n",
        "#====fatiamento===#\n",
        "print(frase)\n",
        "print(frase[9])\n",
        "print(frase[9:14])\n",
        "print(frase[9:21:2]) #do 9 ao 21, pulando de 2 em 2\n",
        "print(frase[:5])#começa do 0 e vai até o limite que é 5, menos um\n",
        "print(frase[15:])#começa do 15 e vai até o final\n",
        "print(frase[9::3])#começa no nove, pula duas casas e mostra a terceira\n",
        "\n",
        "#====Análise===#\n",
        "print(len(frase)) #comprimento da frase\n",
        "print(frase.count('o')) #conta número de caracteres\n",
        "print(frase.count('o',0,13)) #conta número de letras o minusculas do índice 0 ao 13, excluindo esse último\n",
        "print(frase.find('deo')) #localiza a posição inicial de uma sequência de caracteres específica\n",
        "print(frase.find('android')) #retorna -1 pois não localizou\n",
        "print('curso' in frase) # retonra true se localizou a sequência\n",
        "\n",
        "#====Transformação===#\n",
        "#via de regra strings são imutáveis. Mas é possível alterar através de métodos\n",
        "print(frase.replace('python','android'))#localizou uma seq e substituiu por outra\n",
        "print(frase.upper()) #tudo maiusculo\n",
        "print(frase.lower()) #tudo minusculo\n",
        "print(frase.capitalize()) #só a primeira letra da string fica maiuscula o resto minuscula\n",
        "print(frase.title()) #todas as inciais de cada palavra fica maiúscula\n",
        "frase2 = ('   Aprenda Python  ')\n",
        "print(frase2)\n",
        "print(len(frase2))\n",
        "print(frase2.strip())# método strip remove caracteres inúteis, no caso os espaços vazios a mais na string\n",
        "print(len(frase2.strip()))\n",
        "print(frase2.rstrip()) #remove só espaços da direita\n",
        "print(frase2.lstrip()) #remove só espaços da esquerda\n",
        "\n",
        "#====Divisão===#\n",
        "frase3 = (frase.split())\n",
        "print(frase.split()) #por padrão o método divide a string onde ele encontra o caracter de espaço, gerando uma lista\n",
        "\n",
        "#====Divisão===#\n",
        "#usado para juntar\n",
        "print('-'.join(frase3))\n"
      ],
      "metadata": {
        "id": "iA6J8z6JbNar"
      },
      "execution_count": null,
      "outputs": []
    },
    {
      "cell_type": "markdown",
      "source": [
        "#Desafio023 - Faça um programa que leia um número de 0 a 9999 e mostre na tela cada um dos dígitos separados.\n",
        "\n"
      ],
      "metadata": {
        "id": "UgjZGN5pTpzf"
      }
    },
    {
      "cell_type": "code",
      "source": [
        "#MINHA SOLUÇÂO\n",
        "num = str(input('Digite um número: '))\n",
        "\n",
        "if len(num) == 1:\n",
        "    num = ('000'+num)\n",
        "if len(num) == 2:\n",
        "    num = ('00'+num)\n",
        "if len(num) == 3:\n",
        "    num = ('0'+num)\n",
        "if len(num) == 4:\n",
        "    num = num\n",
        "print('Quantos milhares o nº tem: {}\\nQuantas centenas o nº tem: {}\\nQuantas dezenas o nº tem: {}\\nQuantas unidades o nº tem: {}'.format(num[0],num[1],num[2],num[3]))\n",
        "\n",
        "#Soluçaõ do professor usando inteiro\n",
        "num = int(input('Digite um número: '))\n",
        "u = num // 1 % 10\n",
        "d = num // 10 % 10\n",
        "c = num // 100 % 10\n",
        "m = num // 1000 % 10\n",
        "print('Analisando o número {}'.format(num))\n",
        "print('Unidade: {}'.format(u))\n",
        "print('Dezena: {}'.format(d))\n",
        "print('Centena: {}'.format(c))\n",
        "print('Milhar: {}'.format(m))"
      ],
      "metadata": {
        "id": "CqI969kBaz83"
      },
      "execution_count": null,
      "outputs": []
    },
    {
      "cell_type": "markdown",
      "source": [
        "#Desafio024 - Crie um programa que leia o nome de uma cidade diga se ela começa ou não com o nome \"SANTO\"."
      ],
      "metadata": {
        "id": "3Xi3jMCGbSaf"
      }
    },
    {
      "cell_type": "code",
      "source": [
        "#Minha resolução 1\n",
        "#nome = str(input('Em que cidade você nasceu: '))\n",
        "#nome = nome.upper()\n",
        "#nome = nome.strip()\n",
        "#print(nome)\n",
        "#nome.upper()\n",
        "#print(nome.find('SANTO'[:5]))\n",
        "#print('SANTO' in nome)\n",
        "\n",
        "#==== SOLUÇÂO DO PROFESSOR =======\n",
        "#Depois que ele recebeu o valor ele aplicou o método STRIP\n",
        "# Depois usou booleano na atribuiçao de comparação e a na comparação usou o metodo upper\n",
        "nome = str(input('Qual a cidade que você nasceu: ')).strip().upper()\n",
        "print(nome[:5] == 'SANTO')\n",
        "\n",
        "#refazendo usando if\n",
        "cidade = str(input('Digite o nome de uma cidade para o programa identificar se a cidade começa com SANTO: ')).strip().upper()\n",
        "if cidade[:5] == 'SANTO':\n",
        "  print('A cidade começa com a palavra SANTO.')\n",
        "else:\n",
        "  print('A cidade não começa com SANTO.')"
      ],
      "metadata": {
        "id": "TVWXAnYbbcNF"
      },
      "execution_count": null,
      "outputs": []
    },
    {
      "cell_type": "markdown",
      "source": [
        "#Desafio025 - Crie um programa que leia o nome de uma pessoa e diga se ela tem \"SILVA\" no nome. (Procurando uma string dentro de outra)"
      ],
      "metadata": {
        "id": "Kw8kcZMobrYc"
      }
    },
    {
      "cell_type": "code",
      "source": [
        "n = str(input('Qual o seu nome completo: ')).strip().title()\n",
        "print('No seu nome tem Silva?')\n",
        "print('Silva' in n)\n",
        "#print(n)\n",
        "#REFAZENDO COM IF\n",
        "frase = str(input('Digite uma frase qualquer: ')).upper().strip()\n",
        "nome = str(input('Qual palavra deseja saber se está na frase: ')).upper().strip()\n",
        "if (nome in frase):\n",
        "  print('A palavra {} está na frase.'.format(nome))\n",
        "else:\n",
        "  print('A palavra {} não está na frase.'.format(nome))"
      ],
      "metadata": {
        "id": "2BC5E0Mfb3Oj"
      },
      "execution_count": null,
      "outputs": []
    },
    {
      "cell_type": "markdown",
      "source": [
        "#Desafio026 - Faça um programa que leia uma frase pelo teclado e mostre quantas vezes aparece a letra \"A\", em que posição ela aparece a primeira vez e em que posição ela aparece a última vez."
      ],
      "metadata": {
        "id": "sS6IFhnlcF0D"
      }
    },
    {
      "cell_type": "code",
      "source": [
        "frase = str(input('Digite uma frase: ')).strip().upper() #forcei toda a frase ficar maiúscula\n",
        "print('Sua frase contém {} letras O'.format(frase.count('O'))) #fiz a contagem da letra maiúscula\n",
        "#print('Sua frase possui {} caracteres.'.format(len(frase)))\n",
        "print('A letra O aparece pela primeira vez na {}ª posição.'.format(frase.find('O')+1)) #posição da primeira ocorrência, usa +1 pq o índice inicia em zero.\n",
        "print('A letra O aparece pela última vez na {}ª posição.'.format(frase.rfind('O')+1)) #RFIND busca a partir da direita\n",
        "\n",
        "# REFAZENDO\n",
        "\n",
        "frase = str(input('Digite uma frase qualquer: ')).upper().strip()\n",
        "print('Na frase {} existem {} letras A.'.format(frase, frase.count('A')))\n",
        "print('A letra A aparece pela primeira vez na {}ª posição da frase.'.format(frase.find('A')+1))\n",
        "print('A letra A aparece pela última vez na {}ª posição da frase.'.format(frase.rfind('A')+1))"
      ],
      "metadata": {
        "id": "jYIrne0OcTwn"
      },
      "execution_count": null,
      "outputs": []
    },
    {
      "cell_type": "markdown",
      "source": [
        "#Desafio027 -  Faça um programa que leia o nome completo de uma pessoa, mostrando em seguida o primeiro e o último nome separadamente. Uso do split  e listas."
      ],
      "metadata": {
        "id": "sDeKnPORcprJ"
      }
    },
    {
      "cell_type": "code",
      "source": [
        "#nome = str(input('Digite seu nome completo: ')).strip().title()\n",
        "#nome = nome.split()\n",
        "#print('Seu primeiro nome é {}.'.format(nome[0]))\n",
        "#print('Seu último sobrenome é {}.'.format(nome[-1]))\n",
        "#ALTERNATIVA\n",
        "#print('Seu último sobrenome é {}.'.format(nome[len(nome)-1]))\n",
        "\n",
        "nome = str(input('Digite seu nome completo: ')).upper().split()\n",
        "print('Seu primeiro nome é: \\033[4;35m{}\\033[m.'.format(nome[0]))\n",
        "print('Seu último nome é: \\033[4;33m{}\\033[m.'.format(nome[-1]))"
      ],
      "metadata": {
        "id": "VsOBzFqSdAqF"
      },
      "execution_count": null,
      "outputs": []
    },
    {
      "cell_type": "markdown",
      "source": [
        "#Desafio028 - Escreva um programa que faça o computador \"pensar\" em um número inteiro entre 0 e 5 e peça para o usuário tentar descobrir qual foi o número escolhido pelo computador. O programa deverá escrever na tela se o usuário venceu ou perdeu. Uso da Classe Random para fazer uma escolha pseudoaleatórioa dentro de uma lista de possibilidades.\n"
      ],
      "metadata": {
        "id": "uQrgpuxOdUM0"
      }
    },
    {
      "cell_type": "code",
      "source": [
        "#from random import randint\n",
        "##from time import sleep\n",
        "#comp = randint(0, 5)\n",
        "#print('-=-' * 20)\n",
        "#print('Vou pensar em um número entre 0 e 5. Tente adivinhar...')\n",
        "#print('-=-' * 20)\n",
        "#jogador = int(input('Em que número eu pensei? ')) #jogador tenta adivinhar\n",
        "#print('PROCESSANDO...')\n",
        "#sleep(3)\n",
        "#if jogador == comp:\n",
        "#    print('Parabéns! Você conseguiu me vencer!')\n",
        "#else:\n",
        "#    print('GANHEI! Eu pensei no número {} e não no número {}.'.format(comp,jogador))\n",
        "# REFAZENDO\n",
        "\n",
        "from random import randint\n",
        "from time import sleep\n",
        "print('*'*90)\n",
        "frase = ('JOGO DA ADIVINHAÇÃO')\n",
        "vazio = ('')\n",
        "print('*\\033[1;44m' + vazio.center(88) + '\\033[m*')\n",
        "print('*\\033[1;44m' + frase.center(88) + '\\033[m*')\n",
        "print('*\\033[1;44m' + vazio.center(88) + '\\033[m*')\n",
        "print('*'*90)\n",
        "lista = randint(0,5)\n",
        "num = int(input('Qual número estou pensando, entre 0 e 5? '))\n",
        "print('Comparando...')\n",
        "sleep(1)\n",
        "if num==lista:\n",
        "  print('\\033[1;36mParabéns você acertou, eu também pensei no número {}!!!\\033[m'.format(num))\n",
        "else:\n",
        "  print('\\033[1;33mERRRRROOOOOU, eu pensei no número {}.\\033[m'.format(lista))"
      ],
      "metadata": {
        "colab": {
          "base_uri": "https://localhost:8080/"
        },
        "id": "QC3IS5oQdeVH",
        "outputId": "e8496e82-c560-4b1c-cb6b-75c3151d7ac2"
      },
      "execution_count": 3,
      "outputs": [
        {
          "output_type": "stream",
          "name": "stdout",
          "text": [
            "******************************************************************************************\n",
            "*\u001b[1;44m                                                                                        \u001b[m*\n",
            "*\u001b[1;44m                                  JOGO DA ADIVINHAÇÃO                                   \u001b[m*\n",
            "*\u001b[1;44m                                                                                        \u001b[m*\n",
            "******************************************************************************************\n",
            "Qual número estou pensando, entre 0 e 5? 5\n",
            "Comparando...\n",
            "\u001b[1;36mParabéns você acertou, eu também pensei no número 5!!!\u001b[m\n"
          ]
        }
      ]
    },
    {
      "cell_type": "markdown",
      "source": [
        "#Desafio029 -  Escreva um programa que leia a velocidade de um carro. Se ele ultrapassar 80Km/h, mostre uma mensagem dizendo que ele foi multado. A multa vai custar R$7,00 por cada Km acima do limite."
      ],
      "metadata": {
        "id": "aiZo5AikdwcV"
      }
    },
    {
      "cell_type": "code",
      "source": [
        "radar = float(input('A velocidade registrada do seu carro foi: '))\n",
        "limite = 80\n",
        "multa = 7\n",
        "if radar <= 80:\n",
        "    print('Você é um motorista exemplar, sua velocidade foi de {} km/h.'.format(radar))\n",
        "else:\n",
        "    print('Sua velocidade foi de {} km/h.\\nVocê foi multado em R$ {:.2f}.'.format(radar,(radar-limite)*7))\n",
        "print('Tenha um bom dia e dirija com segurança!')\n",
        "\n",
        "# OU multa = (velocidade-80)*7\n",
        "#.format(radar, multa)\n",
        "\n",
        "#REFAZENDO\n",
        "from random import randint\n",
        "print('-'*100)\n",
        "titulo = ('ATENÇÃO => RADAR')\n",
        "print(titulo.center(100))\n",
        "print('-'*100)\n",
        "veloc = randint(1,200)\n",
        "limite = 80\n",
        "multa = 7\n",
        "if veloc > limite:\n",
        "  print('Sua velocidade de {}Km/h excedeu o limite de {} km/h.\\nVocê será multado em R$ {:.2f}.'.format(veloc,limite,(veloc-limite)*7))\n",
        "else:\n",
        "  print('Sua velocidade registrada foi de {} km/h.'.format(veloc))\n",
        "print('Dirija com atenção e responsabilidade.')"
      ],
      "metadata": {
        "id": "iH_N_kmzeRN4"
      },
      "execution_count": null,
      "outputs": []
    },
    {
      "cell_type": "markdown",
      "source": [
        "#Desafio030 - Crie um programa que leia um número inteiro e mostre na tela se ele é PAR ou ÍMPAR.\n"
      ],
      "metadata": {
        "id": "Lya0x_eVesuL"
      }
    },
    {
      "cell_type": "code",
      "source": [
        "print('-x-'*8)\n",
        "print('  Jogo do Par ou Ímpar')\n",
        "print('-x-'*8)\n",
        "\n",
        "from time import sleep\n",
        "num = int(input('Digite um número e eu lhe direi se é par ou ímpar!'))\n",
        "print('Processando...')\n",
        "sleep(3)\n",
        "if (num % 2) == 0:\n",
        "    print('O número {} é par.'.format(num))\n",
        "else:\n",
        "    print('O número {} é impar.'.format(num))\n",
        "\n",
        "#### Alternativa do professor\n",
        "num = int(input('Me diga um número qualquer: '))\n",
        "resultado = num % 2\n",
        "#if resultado == 0:\n",
        "#    print('o número {} é PAR.'.format(num))\n",
        "#else:\n",
        "#    print('o número {} é IMPAR.'.format(num))"
      ],
      "metadata": {
        "id": "WnZPrV28ezwM"
      },
      "execution_count": null,
      "outputs": []
    },
    {
      "cell_type": "markdown",
      "source": [
        "#Desafio031 - Desenvolva um programa que pergunte a distância de uma viagem em Km. Calcule o preço da passagem, cobrando 0,50 por Km para viagens de até 200Km e 0,45 para viagens mais longas."
      ],
      "metadata": {
        "id": "bZ4nGDyKffkU"
      }
    },
    {
      "cell_type": "code",
      "source": [
        "print('-*-'*8)\n",
        "print('  Custo de KM rodado')\n",
        "print('-*-'*8)\n",
        "\n",
        "from time import sleep\n",
        "num = float(input('Informe quantos km você rodou: '))\n",
        "v1 = 0.50\n",
        "v2 = 0.45\n",
        "print('Processando...')\n",
        "sleep(3)\n",
        "if num <= 200:\n",
        "    print('Você rodou {:.2f}km, logo, o Km rodado custou R$ {:.2f}, totalizando R$ {:.2f}.'.format(num,v1,(num*v1)))\n",
        "else:\n",
        "    print('Você rodou {:.2f}km, logo, o Km rodado custou R$ {:.2f}, totalizando R$ {:.2f}.'.format(num,v2,(num*v2)))\n",
        "print('Obrigado pela preferência, volte sempre!')\n",
        "\n",
        "#versao do professor:\n",
        "from time import sleep\n",
        "num = float(input('Informe quantos km você rodou: '))\n",
        "v1 = 0.50\n",
        "v2 = 0.45\n",
        "print('Calculando o custo da viagem...')\n",
        "sleep(3)\n",
        "preço = num * 0.50 if num <= 200 else num * 0.45\n",
        "print('O custo de sua viagem será de R$ {:.2f}.'.format(preço))"
      ],
      "metadata": {
        "id": "0svgLP3XgQg5"
      },
      "execution_count": null,
      "outputs": []
    },
    {
      "cell_type": "markdown",
      "source": [
        "#Desafio032 - Faça um programa que leia um ano qualquer e mostre se ele é bissexto. De 4 em 4 anos é ano bissexto. De 100 em 100 anos não é ano bissexto. De 400 em 400 anos é ano bissexto. Prevalecem as últimas regras sobre as primeiras."
      ],
      "metadata": {
        "id": "cxa0IMGwgS-j"
      }
    },
    {
      "cell_type": "code",
      "source": [
        "from datetime import date\n",
        "ano = int(input('Qual ano gostaria de analisar? Coloque 0 para analisar o ano atual: '))\n",
        "if ano == 0:\n",
        "    ano = date.today().year\n",
        "if ano % 4 == 0 and ano % 100!= 0 or ano %400 == 0:\n",
        "    print('O ano {} é BISSEXTO'.format(ano))\n",
        "else:\n",
        "    print('O ano {} não é bissexto.'.format(ano))"
      ],
      "metadata": {
        "id": "1560U8vVgSqP"
      },
      "execution_count": null,
      "outputs": []
    },
    {
      "cell_type": "markdown",
      "source": [
        "#Desafio033 - Faça um programa que leia três números e mostre qual é o maior e qual é o menor."
      ],
      "metadata": {
        "id": "-5DhjRATiC90"
      }
    },
    {
      "cell_type": "code",
      "source": [
        "a = int(input('Digite um primeiro valor: '))\n",
        "b = int(input('Digite um segundo valor: '))\n",
        "c = int(input('Digite um terceiro valor: '))\n",
        "\n",
        "if a > b and b > c:\n",
        "    maiorvalor = a\n",
        "    menorvalor = c\n",
        "if a > c and c >b:\n",
        "    maiorvalor = a\n",
        "    menorvalor = b\n",
        "if b > a and a > c:\n",
        "    maiorvalor = b\n",
        "    menorvalor = c\n",
        "if b > c and c > a:\n",
        "    maiorvalor = b\n",
        "    menorvalor = a\n",
        "if c > a and a > b:\n",
        "    maiorvalor = c\n",
        "    menorvalor = b\n",
        "if c > b and b > a:\n",
        "    maiorvalor = c\n",
        "    menorvalor = a\n",
        "print('O maior valor é {}.'.format(maiorvalor))\n",
        "print('O menor valor é {}.'.format(menorvalor))\n",
        "\n",
        "#alternativa do professor\n",
        "#a = int(input('Digite um primeiro valor: '))\n",
        "#b = int(input('Digite um segundo valor: '))\n",
        "#c = int(input('Digite um terceiro valor: '))\n",
        "#menor  = a #aqui o prof atribuiu no início um valor ao menor e diminuiu dois testes.\n",
        "#if b < a and b < c:\n",
        "#   menor = b\n",
        "#if c < a and c < b:\n",
        "#   menor = c\n",
        "#verificando o maior\n",
        "#maior  = a\n",
        "#if b > a and b > c:\n",
        "#   maior = b\n",
        "#if c > a and c > b:\n",
        "#   maior = c\n",
        "\n",
        "#REFAZENDO\n",
        "n1 = int(input('Digite o primeiro número: '))\n",
        "n2 = int(input('Digite o segundo número: '))\n",
        "n3 = int(input('Digite o terceiro número: '))\n",
        "menor = n1\n",
        "if n2 < n1 and n2 < n3:\n",
        "  menor = n2\n",
        "if n3 < n1 and n3 < n2:\n",
        "  menor = n3\n",
        "maior = n1\n",
        "if n2 > n1 and n2 > n3:\n",
        "  maior = n2\n",
        "if n3 > n1 and n3 > n2:\n",
        "  maior = n3\n",
        "\n",
        "print('O maior número digitado foi {}.'.format(maior))\n",
        "print('O menor número digitado foi {}.'.format(menor))"
      ],
      "metadata": {
        "id": "GRJJK1l4iKFr"
      },
      "execution_count": null,
      "outputs": []
    },
    {
      "cell_type": "markdown",
      "source": [
        "#Desafio034 - Escreva um programa que pergunte o salário de um funcionário e calcule o valor do seu aumento. Para salários superiores a R$1250,00, calcule um aumento de 10%. Para os inferiores ou iguais, o aumento é de 15%."
      ],
      "metadata": {
        "id": "9hy1O04fiRBB"
      }
    },
    {
      "cell_type": "code",
      "source": [
        "s = int(input('Digite o valor do seu salário atual: R$ ').strip())\n",
        "s1 = s * 0.10\n",
        "s2 = s * 0.15\n",
        "if s <= 1250.00:\n",
        "    print('Você terá 15% de aumento, o que corresponde a R$ {:.2f}.'.format(s2))\n",
        "    print('Seu salário que era de R$ {:.2f} com o aumento será de R$ {:.2f}.'.format(s,s+s2))\n",
        "else:\n",
        "    print('Você terá 10% de aumento, o que corresponde a R$ {:.2f}.'.format(s1))\n",
        "    print('Seu salário que era de R$ {:.2f} com o aumento será de R$ {:.2f}.'.format(s, s + s1))\n",
        "\n",
        "#Versão do professor:\n",
        "s = float(input('Qual é o salário do funcionário? R$ '))\n",
        "if s <= 1250:\n",
        "    novo = s + (s * 15 /100)\n",
        "else:\n",
        "    novo = s+ (s * 10/100)\n",
        "print('Quem ganhava R$ {:.2f} passa a ganhar R$ {:.2f}.'.format1(s,novo))"
      ],
      "metadata": {
        "id": "yhSHQ7Bfia5j"
      },
      "execution_count": null,
      "outputs": []
    },
    {
      "cell_type": "markdown",
      "source": [
        "#Desafio035 - Desenvolva um programa que leia o comprimento de três retas. Diga ao usuário se elas podem ou não formar um triângulo."
      ],
      "metadata": {
        "id": "FHAUYjynimMd"
      }
    },
    {
      "cell_type": "code",
      "source": [
        "a = float(input('Digite o comprimento do primeiro segmento: '))\n",
        "b = float(input('Digite o comprimento do segundo segmento: '))\n",
        "c = float(input('Digite o comprimento do terceiro segmento: '))\n",
        "if a > ( b + c ) or b > ( a + c) or c > ( b + a ):\n",
        "    print('Estes segmentos não podem formar um triângulo')\n",
        "else:\n",
        "    print('Estes segmentos podem formar um triângulo')"
      ],
      "metadata": {
        "id": "_uKmryGtjL83"
      },
      "execution_count": null,
      "outputs": []
    },
    {
      "cell_type": "markdown",
      "source": [
        "#Desafio036 - Aprovando Empréstimo. Escreva um programa para aprovar o empréstimo bancário para a compra de uma casa. O programa vai perguntar o VALOR DA CASA, o SALÁRIO do comprador e em QUANTOS ANOS ele vai pagar. Calcule o valor da prestação mensal sabendo que ela não pode exceder 30% do salário ou então o empréstimo será negado."
      ],
      "metadata": {
        "id": "gzIyfSBIjfZH"
      }
    },
    {
      "cell_type": "code",
      "source": [
        "print('Aprovador de empréstimo bancário para aquisição de casa própria')\n",
        "valor = float(input('Qual o valor total que necessita financiar: R$ '))\n",
        "sal = float(input('Digite o valor do seu salário: R$ '))\n",
        "ano = int(input('Em quantos anos você pretende quitar seu empréstimo: '))\n",
        "mes = ano * 12\n",
        "parc = (valor/mes)\n",
        "if parc > sal*0.30:\n",
        "  print('O empréstimo não será possível pois a parcela no valor de R$ {:.2f} compromete mais que 30% (R$ {:.2f}) do seu salário.'.format(parc, sal* 0.30))\n",
        "else:\n",
        "  print('O empréstimo será concedido e a parcela será no valor de R$ {:.2f}'.format(parc))"
      ],
      "metadata": {
        "id": "m8FCIsrdjio8"
      },
      "execution_count": null,
      "outputs": []
    },
    {
      "cell_type": "markdown",
      "source": [
        "#Desafio 37 - Escreva um programa que leia um número inteiro qualquer e peça para o usuário escolher qual será a BASE DE CONVERSÂO: (ver playlist para descobrir a conversão em python) - 1 para binário - 2 para octal - 3 para hexadecimal"
      ],
      "metadata": {
        "id": "HGLBxVdVqATd"
      }
    },
    {
      "cell_type": "code",
      "source": [
        "#from typing import overload\n",
        "num = int(input('Entre com o número inteiro que deseja converter: '))\n",
        "print ('''Escolha um das bases para conversão:\n",
        "[ 1 ] converter para BINÁRIO\n",
        "[ 2 ] converter para OCTAL\n",
        "[ 3 ] converter para HEXADECIMAL''') \n",
        "opcao = int(input('Sua opção: '))\n",
        "if opcao == 1:\n",
        "  print('{} convertido para BINÁRIO é igual a {}'.format(num, bin(num)[2:])) \n",
        "  #[2:] porque em binário os dois primeiros caracteres (0 e b) são para identificar o formato não interessam.\n",
        "elif opcao == 2:\n",
        "  print('{} convertido para OCTAL é igual a {}'.format(num, oct(num)[2:]))\n",
        "  #[2:] porque em octal os dois primeiros caracteres (0 e o) são para identificar o formato não interessam.\n",
        "elif opcao == 3:\n",
        "  print('{} convertido para HEXADECIMAL é igual a {}'.format(num, hex(num)[2:]))\n",
        "  #[2:] porque em hexadecimal os dois primeiros caracteres (0 e x) são para identificar o formato não interessam.\n",
        "else:\n",
        "  print('A opção digita é inválida, digite novamente.')"
      ],
      "metadata": {
        "id": "yi1Sz2z7q4IH",
        "colab": {
          "base_uri": "https://localhost:8080/"
        },
        "outputId": "146ed0ff-0a78-4878-c80f-28107bc97f67"
      },
      "execution_count": 4,
      "outputs": [
        {
          "output_type": "stream",
          "name": "stdout",
          "text": [
            "Entre com o número inteiro que deseja converter: 125\n",
            "Escolha um das bases para conversão:\n",
            "[ 1 ] converter para BINÁRIO\n",
            "[ 2 ] converter para OCTAL\n",
            "[ 3 ] converter para HEXADECIMAL\n",
            "Sua opção: 3\n",
            "125 convertido para HEXADECIMAL é igual a 7d\n"
          ]
        }
      ]
    },
    {
      "cell_type": "markdown",
      "source": [
        "#Desafio 38 - Escreva um programa que leia dois números interios e compare-os, mostrando na tela uma mensagem:\n",
        "#- O primeiro valor é maior\n",
        "#- O segundo valor é maior\n",
        "#- Nâo existe valor maior os dois são iguais"
      ],
      "metadata": {
        "id": "MAm7Frb2q4tR"
      }
    },
    {
      "cell_type": "code",
      "source": [
        "print('O programa que identifica se é maior, menor ou igual.')\n",
        "a = int(input('Insira o primeiro número: '))\n",
        "b = int(input('Insira o segundo número: '))\n",
        "if a > b:\n",
        "  print('O número {} é maior que o número {}.'.format(a,b))\n",
        "elif b > a:\n",
        "  print('O número {} é maior que o número {}.'.format(b,a))\n",
        "else:\n",
        "  print('O número {} foi digitado duas vezes.'.format(a))\n",
        "print('Comparação realizada.')"
      ],
      "metadata": {
        "id": "ehZAVLvZrP7o",
        "colab": {
          "base_uri": "https://localhost:8080/"
        },
        "outputId": "85009a39-de33-44d8-a7bf-1a0c56ceab6b"
      },
      "execution_count": null,
      "outputs": [
        {
          "output_type": "stream",
          "name": "stdout",
          "text": [
            "O programa que identifica se é maior, menor ou igual.\n",
            "Insira o primeiro número: 5\n",
            "Insira o segundo número: 5\n",
            "O número 5 foi digitado duas vezes.\n",
            "Comparação realizada.\n"
          ]
        }
      ]
    },
    {
      "cell_type": "markdown",
      "source": [
        "#Desafio 39 - Faça um programa que leia o ano de nascimento de um jovem e informe, de acordo com sua idade: - Se ele ainda vai se alista ao serviço militar - se é a hora de se alistar - Se já passou o tempo do alistamento. -Seu programa também deverá mostrar o tempo que falta ou que passou do prazo"
      ],
      "metadata": {
        "id": "kfP9DM3rrQVQ"
      }
    },
    {
      "cell_type": "code",
      "source": [
        "from datetime import date #aula 8 fala sobre importação\n",
        "atual = date.today().year\n",
        "nasc = int(input('Em que ano você nasceu: '))\n",
        "idade = atual - nasc\n",
        "print('Quem nasceu em {} tem {} anos em {}.'.format(nasc, idade, atual))\n",
        "sexo = input('Digite M se você é do sexo MASCULINO e F se você é do sexo FEMININO: ').lower().strip()\n",
        "if sexo == 'm':\n",
        "    if idade == 18:\n",
        "        print('Você tem que se alistar imediatamente')\n",
        "    elif idade < 18:\n",
        "        saldo = 18 - idade\n",
        "        print('Você ainda não tem 18 anos. Ainda faltam {} ano(s) para o alistamento.'.format(saldo))\n",
        "        ano = atual+saldo\n",
        "        print('Seu alistamento será no ano de {}.'.format(ano))\n",
        "        #elif idade > 18\n",
        "    else:\n",
        "        saldo = idade - 18\n",
        "        print('Você já deveria ter se alistado há {} anos.'.format(saldo))\n",
        "        ano= atual-saldo\n",
        "        print('Seu alistamento deveria ter ocorrido em {}.'.format(ano))\n",
        "elif sexo == 'f':\n",
        "    print('Nâo há alistamento militar para mulheres, você está dispensada.')\n",
        "else:\n",
        "    print('Opçaõ inválida, digite novamente.')"
      ],
      "metadata": {
        "id": "hVKpKc5rrySY",
        "colab": {
          "base_uri": "https://localhost:8080/"
        },
        "outputId": "5fcc772e-d1bd-4958-f515-7f870fa51df8"
      },
      "execution_count": null,
      "outputs": [
        {
          "output_type": "stream",
          "name": "stdout",
          "text": [
            "44231.0\n"
          ]
        }
      ]
    },
    {
      "cell_type": "markdown",
      "source": [
        "#Desafio 40 - Crie um programa que leia duas notas de um aluno e calcule sua média, mostrando uma mensagem no final de acordo com a média atingida:\n",
        "#- Média abaixo de 5.0: REPROVADO\n",
        "#- Média entre 5.0 e 6.9: RECUPERAÇÃO\n",
        "#- Média 7.0 ou superior: APROVADO"
      ],
      "metadata": {
        "id": "PYQvbOlSryow"
      }
    },
    {
      "cell_type": "code",
      "source": [
        "print('Resultado das Provas')\n",
        "a = float(input('Entre com a primeira nota: '))\n",
        "b = float(input('Entre com a segunda nota: '))\n",
        "m = ( a + b ) / 2\n",
        "if m < 5:\n",
        "  print('Com as notas {:.1f} e {:.1f}  sua média foi {:.1f}, portanto você está REPROVADO'.format(a, b, m))\n",
        "elif m >= 5 and m < 7:\n",
        "#elif 7 > m >= 5:  Essa também é uma notação aceita em python\n",
        "  print('Com as notas {:.1f} e {:.1f}  sua média foi {:.1f}, portanto você está em RECUPERAÇÃO'.format(a, b, m))\n",
        "else:\n",
        "  print('Com as notas {:.1f} e {:.1f} sua média foi {:.1f}, PARABÉNS, você foi aprovado'.format(a, b, m))\n",
        "print('FOCO, continue estudando!!!')\n"
      ],
      "metadata": {
        "id": "-tKJp11FsnOb",
        "colab": {
          "base_uri": "https://localhost:8080/"
        },
        "outputId": "93123c08-b8c9-4be3-ec41-a5f622f8ccef"
      },
      "execution_count": null,
      "outputs": [
        {
          "output_type": "stream",
          "name": "stdout",
          "text": [
            "Resultado das Provas\n",
            "Entre com a primeira nota: 5\n",
            "Entre com a segunda nota: 4.9\n",
            "A sua média foi 4.95, portanto você está REPROVADO\n",
            "FOCO, continue estudando!!!\n"
          ]
        }
      ]
    },
    {
      "cell_type": "markdown",
      "source": [
        "#Desafio 41 - A confederação nacional de natação precisa de um programa que leia o ano de nascimento de um atleta e mostre sua categoria de acordo com a idade:\n",
        "#- Até 9 anos: MIRIM\n",
        "#- Até 14 anos: INFANTIL\n",
        "#- Até 19 Anos: JUNIOR\n",
        "#- Até 20 Anos: SÊNIOR\n",
        "#- Acima: MASTER"
      ],
      "metadata": {
        "id": "Bn70IMGpsnrH"
      }
    },
    {
      "cell_type": "code",
      "source": [
        "from datetime import date\n",
        "print('<<<<<<< CONFEDERAÇÃO NACIONAL DE NATAÇÃO >>>>>>>')\n",
        "nasc = int(input('Qual o ano do seu nascimento: ').strip())\n",
        "atual = date.today().year\n",
        "idade = atual - nasc\n",
        "if idade <= 9:\n",
        "  print('Você tem {} anos completos no ano de {}. Portanto sua categoria é a MIRIM!'.format(idade, atual))\n",
        "elif idade > 9 and idade <= 14:\n",
        "  #poderia ser elif idade <=14: afinal a outra condição já seria excluída na opção anterior\n",
        "  print('Você tem {} anos completos no ano de {}. Portanto, sua categoria é a INFANTIL'.format(idade, atual))\n",
        "elif idade > 14 and idade <= 19:\n",
        "  # poderia ser elif idade <=19: afinal a outra condição já seria excluída na opção anterior\n",
        "  print('Você tem {} anos completos no ano de {}. Portanto, sua categoria é a JUNIOR.'.format(idade, atual))\n",
        "elif idade > 19 and idade <= 25:\n",
        "  # poderia ser elif idade <=25: afinal a outra condção já seria excluída na opção anterior\n",
        "  print('Você tem {} anos completos no ano de {}. Portanto, sua categoria é a SÊNIOR.'.format(idade, atual))\n",
        "else:\n",
        "  print('Você tem {} anos completos no ano de {}. Portanto, sua categoria é a MASTER.'.format(idade, atual))"
      ],
      "metadata": {
        "id": "FAH0cJ0lsqqO",
        "colab": {
          "base_uri": "https://localhost:8080/"
        },
        "outputId": "a9346386-746c-4541-b5a6-82003e57095c"
      },
      "execution_count": null,
      "outputs": [
        {
          "output_type": "stream",
          "name": "stdout",
          "text": [
            "<<<<<<< CONFEDERAÇÃO NACIONAL DE NATAÇÃO >>>>>>>\n",
            "Qual o ano do seu nascimento: 2002\n",
            "Você tem 20 anos completos no ano de 2022. POrtanto, sua categoria é a SÊNIOR.\n"
          ]
        }
      ]
    },
    {
      "cell_type": "markdown",
      "source": [
        "#Desafio 42 - Refaça o desafio 35 dos triângulos, acrescentando o recurso de mostrar que de triângulo será formato:\n",
        "#- Equilátero: todos os lados iguais\n",
        "#- Isósceles: dois lados iguais\n",
        "#- Escaleno: todos os lados são diferentes\n"
      ],
      "metadata": {
        "id": "ILzMnU4MsrEB"
      }
    },
    {
      "cell_type": "code",
      "source": [
        "print('Vamos ver se as retas que digitar podem formar um triângulo e de qual tipo.')\n",
        "a = float(input('Digite o comprimento do primeiro segmento: '))\n",
        "b = float(input('Digite o comprimento do segundo segmento: '))\n",
        "c = float(input('Digite o comprimento do terceiro segmento: '))\n",
        "if a > ( b + c ) or b > ( a + c) or c > ( b + a ):\n",
        "    print('Estes segmentos não podem formar um triângulo, pois um lado é maior que os outros dois somados. ')\n",
        "elif a == b and b == c:\n",
        "    print('Estes segmentos formam um triângulo equiátero! Todos os lados possuem a mesma medida')\n",
        "elif a != b and a != c and b !=c :\n",
        "    print('Estes segmentos formam um triângulo escaleno, pois todos os lados são diferentes entre si.')\n",
        "else:\n",
        "    print('Estes segmentos formam um triângulo isósceles, pois dois lados são iguais.')\n",
        "\n",
        "#outra maneira de fazer:\n",
        "print('Vamos ver se as retas que digitar podem formar um triângulo e de qual tipo.')\n",
        "a = float(input('Digite o comprimento do primeiro segmento: '))\n",
        "b = float(input('Digite o comprimento do segundo segmento: '))\n",
        "c = float(input('Digite o comprimento do terceiro segmento: '))\n",
        "if a < b + c and b < a + c and c < a + b:\n",
        "    print('Os segmentos acima podem formar um triângulo ', end = '')\n",
        "    if a == b == b:\n",
        "        print('EQUILÁTERO!')\n",
        "    elif a != b != c != a:\n",
        "        print('ESCALENO!')\n",
        "    else:\n",
        "        print('ISÓSCELES!')\n",
        "else:\n",
        "    print('Os segmentos acima não podem formar um triângulo.')"
      ],
      "metadata": {
        "id": "EFhAosjhtJm1",
        "colab": {
          "base_uri": "https://localhost:8080/"
        },
        "outputId": "4bf1fc55-3463-4d55-951a-dfd1979eefc1"
      },
      "execution_count": null,
      "outputs": [
        {
          "output_type": "stream",
          "name": "stdout",
          "text": [
            "Vamos ver se as retas que digitar podem formar um triângulo e de qual tipo.\n",
            "Digite o comprimento do primeiro segmento: 2\n",
            "Digite o comprimento do segundo segmento: 3\n",
            "Digite o comprimento do terceiro segmento: 5\n",
            "Estes segmentos formam um triângulo escaleno, pois todos os lados são diferentes entre si.\n"
          ]
        }
      ]
    },
    {
      "cell_type": "markdown",
      "source": [
        "#Desafio 43 - Desenvolva uma lógica que leia o peso e a altura de uma pessoa, calcule seu IMC e mostre su status, de acordo com a tabela abaixo:\n",
        "#- Abaixo de 18.5: Abaixo do peso\n",
        "#- Entre 18.5 e 25: Peso ideal\n",
        "#- 25 até 30: Sobrepeso\n",
        "#- 30 até 40: Obesidade\n",
        "#- Acima de 40: Obesidade mórbida\n"
      ],
      "metadata": {
        "id": "sK02js5UtJ9X"
      }
    },
    {
      "cell_type": "code",
      "source": [
        "print('Calcule o seu IMC a partir de sua altura e peso.')\n",
        "a = float(input('Qual a sua altura? ').replace(',','.').strip())\n",
        "p = float(input('Qual o seu peso? ').replace(',','.').strip())\n",
        "imc = (p/(a**2)) #peso divido pela altura ao quadrado é a fórmula que define o IMC\n",
        "#print(imc)\n",
        "if imc < 18.5:\n",
        "  print('Seu IMC é de \\033[1;32m{:.2f}\\033[, o que significa dizer que você está abaixo do peso normal.'.format(imc))\n",
        "elif imc >=18.5 and imc < 25:\n",
        "  print('Seu IMC é de \\033[1;32m{:.2f}\\033[, o que significa dizer que você está no peso normal.'.format(imc))\n",
        "elif imc >=25 and imc <30:\n",
        "  print('Seu IMC é de \\033[1;32m{:.2f}\\033[, o que significa dizer que você está com sobrepeso'.format(imc))\n",
        "elif imc >=30 and imc < 40:\n",
        "  print('Seu IMC é de \\033[1;32m{:.2f}\\033[, o que significa dizer que você está na linha da obesidade.'.format(imc))\n",
        "else:\n",
        "  print('Seu IMC é de \\033[1;32m{:.2f}\\033[, o que significa dizer que você com obesidade mórbida.'.format(imc))\n",
        "print('Alimente-se de forma saudável. Mas o bom mesmo é comer picanha e beber cerveja gelada!')\n"
      ],
      "metadata": {
        "id": "QI1Wl6F0tL_8",
        "colab": {
          "base_uri": "https://localhost:8080/"
        },
        "outputId": "c9b4bcbc-887e-4e29-914a-d71f20292326"
      },
      "execution_count": null,
      "outputs": [
        {
          "output_type": "stream",
          "name": "stdout",
          "text": [
            "Calcule o seu IMC a partir de sua altura e peso.\n",
            "Qual a sua altura? 1,8\n",
            "Qual o seu peso? 109\n",
            "Seu IMC é de \u001b[1;32m33.64\u001b[, o que significa dizer que você está na linha da obesidade.\n",
            "Alimente-se de forma saudável. Mas o bom mesmo é comer picanha e beber cerveja gelada!\n"
          ]
        }
      ]
    },
    {
      "cell_type": "markdown",
      "source": [
        "#Desafio 44 - Elabore um programa que calcule o valor a ser pago por um produto considerando o seu PREÇO NORMAL e CONDIÇÃO DE PAGAMENTO:\n",
        "#- À vista dinheiro / cheque: 10% de desconto\n",
        "#- À vista no cartão: 5% de desconto\n",
        "#- Em até 2 x no cartão: Preço normal\n",
        "#- 3 x ou mais no cartão: 20% de Juros"
      ],
      "metadata": {
        "id": "l8CeZ9GmtMag"
      }
    },
    {
      "cell_type": "code",
      "source": [
        "print('Calculadora de preço final conforme condição de pagamento.')\n",
        "v = float(input('Entre com o valor de etiqueta do produto: R$ '))\n",
        "print('\\033[1;33m-\\033['*62)\n",
        "print('\\033[1;31mFORMAS DE PAGAMENTO\\033[m'.center(74))\n",
        "print('\\033[1;33m-\\033['*62)\n",
        "print('a = A vista em dinheiro ou cheque! Você terá 10% de desconto!')\n",
        "print('b = A vista no cartão; 5% de desconto!')\n",
        "print('c = Em até 2x no cartão: preço normal!')\n",
        "print('d = Em 3 x ou mais no cartão: 20% de juros!')\n",
        "print('\\033[1;33m-\\033['*62)\n",
        "f = (input('Qual será a forma de pagamento? ').lower().strip())\n",
        "a = 'A vista em dinheiro ou cheque! Você terá 10% de desconto!'\n",
        "b = 'A vista no cartão; 5% de desconto!'\n",
        "c = 'Em até 2x no cartão: preço normal!'\n",
        "d = 'Em 3 x ou mais no cartão com 20% de juros!'\n",
        "if f == 'a':\n",
        "  print('A forma de pagamento escolhida foi \\033[4;31m{}\\033[.\\nO preço que era R$ {:.2f}, com o desconto ficou R$ {:.2f}.'.format(a,v,(v * 0.9)), end = ' ')\n",
        "  print('Você economizou \\033[1;33R$ {:.2f}\\033[m.'.format(v - (v*0.9)))\n",
        "elif f == 'b':\n",
        "  print('A forma de pagamento escolhida foi \\033[4;31m{}\\033[.\\nO preço que era R$ {:.2f}, com o desconto ficou R$ {:.2f}.'.format(b,v,(v * 0.95)), end = ' ')\n",
        "  print('Você economizou \\033[1;33mR$ {:.2f}\\033[.'.format(v - (v*0.95)))\n",
        "elif f == 'c':\n",
        "  print('A forma de pagamento escolhida foi \\033[4;31m{}\\033[.\\nO preço não sofrerá desconto e permanecerá em R$ {:.2f}.'.format(c,v), end = ' ')\n",
        "  print('\\033[1;31mNeste parcelamento não há juros!\\033[')\n",
        "elif f == 'd':\n",
        "  p = int(input('Você escolheu uma opção com parcelamento. Em quantas parcelas deseja pagar? ').strip())\n",
        "  if p <=2 :\n",
        "      print('A forma de pagamento escolhida foi \\033[4;31m{}\\033[m.\\nO preço não sofrerá desconto e permanecerá em R$ {:.2f}.'.format(c, v), end=' ')\n",
        "      print('\\033[1;31mNeste parcelamento não há juros!\\033[')\n",
        "  else:\n",
        "      print('A forma de pagamento escolhida foi \\033[4;31m{}\\033[.\\nO preço inicial que era de R$ {:.2f}, com juros de 20%, será de R$ {:.2f}.'.format(d,v,(v*1.20)), end = ' ')\n",
        "      print('O valor de cada parcela será de R$ {:.2f} e \\033[1;31mos juros corresponderão a R$ {:.2f}!\\033['.format((v*1.2/p),v*1.2-v))\n",
        "else:\n",
        "  print('A opção escolhida é inexistente!!!')\n",
        "print('Volte sempre!!!')\n",
        "\n"
      ],
      "metadata": {
        "id": "VFuKym3TtOuG",
        "colab": {
          "base_uri": "https://localhost:8080/"
        },
        "outputId": "84758a1e-5ddc-4cf8-fac1-312478a31595"
      },
      "execution_count": null,
      "outputs": [
        {
          "output_type": "stream",
          "name": "stdout",
          "text": [
            "Calculadora de preço final conforme condição de pagamento.\n",
            "Entre com o valor de etiqueta do produto: R$ 100\n",
            "\u001b[1;33m-\u001b[\u001b[1;33m-\u001b[\u001b[1;33m-\u001b[\u001b[1;33m-\u001b[\u001b[1;33m-\u001b[\u001b[1;33m-\u001b[\u001b[1;33m-\u001b[\u001b[1;33m-\u001b[\u001b[1;33m-\u001b[\u001b[1;33m-\u001b[\u001b[1;33m-\u001b[\u001b[1;33m-\u001b[\u001b[1;33m-\u001b[\u001b[1;33m-\u001b[\u001b[1;33m-\u001b[\u001b[1;33m-\u001b[\u001b[1;33m-\u001b[\u001b[1;33m-\u001b[\u001b[1;33m-\u001b[\u001b[1;33m-\u001b[\u001b[1;33m-\u001b[\u001b[1;33m-\u001b[\u001b[1;33m-\u001b[\u001b[1;33m-\u001b[\u001b[1;33m-\u001b[\u001b[1;33m-\u001b[\u001b[1;33m-\u001b[\u001b[1;33m-\u001b[\u001b[1;33m-\u001b[\u001b[1;33m-\u001b[\u001b[1;33m-\u001b[\u001b[1;33m-\u001b[\u001b[1;33m-\u001b[\u001b[1;33m-\u001b[\u001b[1;33m-\u001b[\u001b[1;33m-\u001b[\u001b[1;33m-\u001b[\u001b[1;33m-\u001b[\u001b[1;33m-\u001b[\u001b[1;33m-\u001b[\u001b[1;33m-\u001b[\u001b[1;33m-\u001b[\u001b[1;33m-\u001b[\u001b[1;33m-\u001b[\u001b[1;33m-\u001b[\u001b[1;33m-\u001b[\u001b[1;33m-\u001b[\u001b[1;33m-\u001b[\u001b[1;33m-\u001b[\u001b[1;33m-\u001b[\u001b[1;33m-\u001b[\u001b[1;33m-\u001b[\u001b[1;33m-\u001b[\u001b[1;33m-\u001b[\u001b[1;33m-\u001b[\u001b[1;33m-\u001b[\u001b[1;33m-\u001b[\u001b[1;33m-\u001b[\u001b[1;33m-\u001b[\u001b[1;33m-\u001b[\u001b[1;33m-\u001b[\u001b[1;33m-\u001b[\n",
            "                      \u001b[1;31mFORMAS DE PAGAMENTO\u001b[m                       \n",
            "\u001b[1;33m-\u001b[\u001b[1;33m-\u001b[\u001b[1;33m-\u001b[\u001b[1;33m-\u001b[\u001b[1;33m-\u001b[\u001b[1;33m-\u001b[\u001b[1;33m-\u001b[\u001b[1;33m-\u001b[\u001b[1;33m-\u001b[\u001b[1;33m-\u001b[\u001b[1;33m-\u001b[\u001b[1;33m-\u001b[\u001b[1;33m-\u001b[\u001b[1;33m-\u001b[\u001b[1;33m-\u001b[\u001b[1;33m-\u001b[\u001b[1;33m-\u001b[\u001b[1;33m-\u001b[\u001b[1;33m-\u001b[\u001b[1;33m-\u001b[\u001b[1;33m-\u001b[\u001b[1;33m-\u001b[\u001b[1;33m-\u001b[\u001b[1;33m-\u001b[\u001b[1;33m-\u001b[\u001b[1;33m-\u001b[\u001b[1;33m-\u001b[\u001b[1;33m-\u001b[\u001b[1;33m-\u001b[\u001b[1;33m-\u001b[\u001b[1;33m-\u001b[\u001b[1;33m-\u001b[\u001b[1;33m-\u001b[\u001b[1;33m-\u001b[\u001b[1;33m-\u001b[\u001b[1;33m-\u001b[\u001b[1;33m-\u001b[\u001b[1;33m-\u001b[\u001b[1;33m-\u001b[\u001b[1;33m-\u001b[\u001b[1;33m-\u001b[\u001b[1;33m-\u001b[\u001b[1;33m-\u001b[\u001b[1;33m-\u001b[\u001b[1;33m-\u001b[\u001b[1;33m-\u001b[\u001b[1;33m-\u001b[\u001b[1;33m-\u001b[\u001b[1;33m-\u001b[\u001b[1;33m-\u001b[\u001b[1;33m-\u001b[\u001b[1;33m-\u001b[\u001b[1;33m-\u001b[\u001b[1;33m-\u001b[\u001b[1;33m-\u001b[\u001b[1;33m-\u001b[\u001b[1;33m-\u001b[\u001b[1;33m-\u001b[\u001b[1;33m-\u001b[\u001b[1;33m-\u001b[\u001b[1;33m-\u001b[\u001b[1;33m-\u001b[\n",
            "a = A vista em dinheiro ou cheque! Você terá 10% de desconto!\n",
            "b = A vista no cartão; 5% de desconto!\n",
            "c = Em até 2x no cartão: preço normal!\n",
            "d = Em 3 x ou mais no cartão: 20% de juros!\n",
            "\u001b[1;33m-\u001b[\u001b[1;33m-\u001b[\u001b[1;33m-\u001b[\u001b[1;33m-\u001b[\u001b[1;33m-\u001b[\u001b[1;33m-\u001b[\u001b[1;33m-\u001b[\u001b[1;33m-\u001b[\u001b[1;33m-\u001b[\u001b[1;33m-\u001b[\u001b[1;33m-\u001b[\u001b[1;33m-\u001b[\u001b[1;33m-\u001b[\u001b[1;33m-\u001b[\u001b[1;33m-\u001b[\u001b[1;33m-\u001b[\u001b[1;33m-\u001b[\u001b[1;33m-\u001b[\u001b[1;33m-\u001b[\u001b[1;33m-\u001b[\u001b[1;33m-\u001b[\u001b[1;33m-\u001b[\u001b[1;33m-\u001b[\u001b[1;33m-\u001b[\u001b[1;33m-\u001b[\u001b[1;33m-\u001b[\u001b[1;33m-\u001b[\u001b[1;33m-\u001b[\u001b[1;33m-\u001b[\u001b[1;33m-\u001b[\u001b[1;33m-\u001b[\u001b[1;33m-\u001b[\u001b[1;33m-\u001b[\u001b[1;33m-\u001b[\u001b[1;33m-\u001b[\u001b[1;33m-\u001b[\u001b[1;33m-\u001b[\u001b[1;33m-\u001b[\u001b[1;33m-\u001b[\u001b[1;33m-\u001b[\u001b[1;33m-\u001b[\u001b[1;33m-\u001b[\u001b[1;33m-\u001b[\u001b[1;33m-\u001b[\u001b[1;33m-\u001b[\u001b[1;33m-\u001b[\u001b[1;33m-\u001b[\u001b[1;33m-\u001b[\u001b[1;33m-\u001b[\u001b[1;33m-\u001b[\u001b[1;33m-\u001b[\u001b[1;33m-\u001b[\u001b[1;33m-\u001b[\u001b[1;33m-\u001b[\u001b[1;33m-\u001b[\u001b[1;33m-\u001b[\u001b[1;33m-\u001b[\u001b[1;33m-\u001b[\u001b[1;33m-\u001b[\u001b[1;33m-\u001b[\u001b[1;33m-\u001b[\u001b[1;33m-\u001b[\n",
            "Qual será a forma de pagamento? d\n",
            "Você escolheu uma opção com parcelamento. Em quantas parcelas deseja pagar? 9\n",
            "A forma de pagamento escolhida foi \u001b[4;31mEm 3 x ou mais no cartão com 20% de juros!\u001b[.\n",
            "O preço inicial que era de R$ 100.00, com juros de 20%, será de R$ 120.00. O valor de cada parcela será de R$ 13.33 e \u001b[1;31mos juros corresponderão a R$ 20.00!\u001b[\n",
            "Volte sempre!!!\n"
          ]
        }
      ]
    },
    {
      "cell_type": "markdown",
      "source": [
        "#Desafio044 - Outra forma de fazer"
      ],
      "metadata": {
        "id": "Ktxc2zXLT6vi"
      }
    },
    {
      "cell_type": "code",
      "source": [
        "#entrada formatada. A formatação centraliza(circunflexo) o texto em 40 espaços. O '=' preenche o resto dos espaços.\n",
        "print('{:=^40}'.format(' LOJAS DO  ALVES '))\n",
        "preço = float(input('Preço das compras: R$ ').replace(',','.'))\n",
        "#O uso das 3 aspas permite fazer diversas sequências de strings sem a necessidade de vários prints. Muito útil para MENUS, ESCOLHAS\n",
        "print('''FORMAS DE PAGAMENTO\n",
        "[ 1 ] À vista dinheiro ou cheque\n",
        "[ 2 ] À vista no cartão\n",
        "[ 3 ] 2x no cartão\n",
        "[ 4 ] 3x ou mais no cartão''')\n",
        "opção = int(input('Qual será a forma de pagamento? '))\n",
        "if opção == 1:\n",
        "  total = preço - (preço * 10 / 100)\n",
        "elif opção == 2:\n",
        "  total = preço - (preço * 5 / 100)\n",
        "elif opção == 3:\n",
        "  total = preço\n",
        "  parcela = total / 2\n",
        "  print('Sua compra será parcelada em 2x de R$ {:.2f}.'.format(parcela))\n",
        "elif opção == 4:\n",
        "  total = preço + (preço * 20 / 100)\n",
        "  totparc =  int(input('Quantas parcelas: '))\n",
        "  parcela = total/totparc\n",
        "  print('Sua compra será parcela em {}x, de R$ {:.2f} COM JUROS.'.format(totparc, parcela))\n",
        "else:\n",
        "  total = preço\n",
        "  print('OPÇÃO INVÁLIDA. Tente novamente!')\n",
        "print('Sua compra de R$ {:.2f} vai custar R$ {:.2f} no final.'.format(preço, total))\n"
      ],
      "metadata": {
        "colab": {
          "base_uri": "https://localhost:8080/"
        },
        "id": "5qr-IbKjT96O",
        "outputId": "c1e8f815-b4d9-4070-dacf-12ac022a6fc4"
      },
      "execution_count": null,
      "outputs": [
        {
          "output_type": "stream",
          "name": "stdout",
          "text": [
            "=========== LOJAS DO  ALVES ============\n",
            "Preço das compras: R$ 1000\n",
            "FORMAS DE PAGAMENTO\n",
            "[ 1 ] À vista dinheiro ou cheque\n",
            "[ 2 ] À vista no cartão\n",
            "[ 3 ] 2x no cartão\n",
            "[ 4 ] 3x ou mais no cartão\n",
            "Qual será a forma de pagamento? 5\n",
            "OPÇÃO INVÁLIDA. Tente novamente!\n",
            "Sua compra de R$ 1000.00 vai custar R$ 1000.00 no final.\n"
          ]
        }
      ]
    },
    {
      "cell_type": "markdown",
      "source": [
        "#Desafio 45 - Crie um programa que faça o computador jogar jokenpô com você"
      ],
      "metadata": {
        "id": "QHcSY-FNtPWz"
      }
    },
    {
      "cell_type": "code",
      "source": [
        "import random\n",
        "print('Vamos jogar JOKENPÔ!?!?!')\n",
        "o1 = 'PAPEL'\n",
        "o2 = 'PEDRA'\n",
        "o3 = 'TESOURA'\n",
        "comp = [o1, o2, o3]\n",
        "ecomp = random.choice(comp)\n",
        "j = str(input('Digite A para escolher PAPEL.\\nDigite B para escolher PEDRA.\\nDigite C para escolher TESOURA: ').upper())\n",
        "A = 'PAPEL'\n",
        "B = 'PEDRA'\n",
        "C = 'TESOURA'\n",
        "#print('Você escolheu {}.'.format(j)) - era só pra testar leitura da opção do jogador.\n",
        "if j == 'A':\n",
        "    if ecomp == o1:\n",
        "        print('Ambos escolheram PAPEL. O jogo empatou!')\n",
        "    elif ecomp == o2:\n",
        "        print('O {} envolve a {}. Você venceu, PARABÉNS!!!'.format(A,ecomp))\n",
        "    else:\n",
        "        print('A {} corta o {}. Você PERDEU!!! Tente novamente.'.format(ecomp,A))\n",
        "elif j == 'B':\n",
        "    if ecomp == o2:\n",
        "        print('Ambos escolheram PEDRA. O jogo empatou!')\n",
        "    elif ecomp == o1:\n",
        "        print('O {} envolve a {}. Você PERDEU!!! Tente novamente.'.format(ecomp,B))\n",
        "    else:\n",
        "        print('A {} entorta a {}. PARABÉNS, você venceu!!!'.format(B, ecomp))\n",
        "\n",
        "elif j == 'C':\n",
        "    if ecomp == o3:\n",
        "        print('Ambos escolheram TESOURA. O jogo empatou')\n",
        "    elif ecomp == o1:\n",
        "        print('A {} corta o {}. PARABÉNS. Você venceu!!!'.format(C,ecomp))\n",
        "    else:\n",
        "        print('A {} entorta a {}. Você PERDEU, tente novamente!!!'.format(ecomp,C))\n",
        "\n",
        "else:\n",
        "    print('A opção digitada é inválida. Escolha novamente.')\n",
        "\n",
        "\n"
      ],
      "metadata": {
        "id": "NPrqi0v1tRK9",
        "colab": {
          "base_uri": "https://localhost:8080/"
        },
        "outputId": "f320bed6-ad57-46ae-f5e2-c776c37339b4"
      },
      "execution_count": null,
      "outputs": [
        {
          "output_type": "stream",
          "name": "stdout",
          "text": [
            "Vamos jogar JOKENPÔ!?!?!\n",
            "Digite A para escolher PAPEL.\n",
            "Digite B para escolher PEDRA.\n",
            "Digite C para escolher TESOURA: A\n",
            "O PAPEL envolve a PEDRA. Você venceu, PARABÉNS!!!\n"
          ]
        }
      ]
    },
    {
      "cell_type": "markdown",
      "source": [
        "#Desafio045 - OUTRA FORMA DE JOKENPÔ\n"
      ],
      "metadata": {
        "id": "p1S-HbX1wgyD"
      }
    },
    {
      "cell_type": "code",
      "source": [
        "from random import randint\n",
        "from time import sleep\n",
        "itens = ('Pedra', 'Papel', 'Tesoura')\n",
        "computador = randint(0,2)\n",
        "#print('O computador escolheu {}.'.format(itens[computador]))\n",
        "print('''Suas opções:\n",
        "[ 0 ] PEDRA\n",
        "[ 1 ] PAPEL\n",
        "[ 2 ] TESOURA''')\n",
        "jogador = int(input('Qual é a sua jogada? '))\n",
        "print('JO')\n",
        "sleep(1)\n",
        "print('KEN')\n",
        "sleep(1)\n",
        "print('PÔ!!!')\n",
        "sleep(1)\n",
        "print('-='*10)\n",
        "print('Computador jogou {}.'.format(itens[computador]))\n",
        "print('Jogador jogou {}.'.format(itens[jogador]))\n",
        "print('-='*10)\n",
        "if computador == 0: #computador jogou pedra\n",
        "  if jogador == 0:\n",
        "    print('EMPATE')\n",
        "  elif jogador == 1:\n",
        "    print('JOGADOR VENCE')\n",
        "  elif jogador == 2:\n",
        "    print('COMPUTADOR VENCE')\n",
        "  else:\n",
        "    print('!!!JOGADA INVÁLIDA!!!')\n",
        "elif computador == 1:#computador jogou papel\n",
        "  if jogador == 0:\n",
        "     print('COMPUTADOR VENCE')\n",
        "  elif jogador == 1:\n",
        "    print('EMPATE')\n",
        "  elif jogador == 2:\n",
        "    print('JOGADOR VENCE')\n",
        "  else:\n",
        "    print('!!!JOGADA INVÁLIDA!!!')\n",
        "elif computador == 2: #computador jogou tesoura\n",
        "  if jogador == 0:\n",
        "    print('JOGADOR VENCE')\n",
        "  elif jogador == 1:\n",
        "    print('COMPUTADOR VENCE')\n",
        "  elif jogador == 2:\n",
        "    print('EMPATE')\n",
        "  else:\n",
        "    print('!!!JOGADA INVÁLIDA!!!')"
      ],
      "metadata": {
        "colab": {
          "base_uri": "https://localhost:8080/"
        },
        "id": "BObWaEUIwk8Q",
        "outputId": "6407ec9c-bec0-4a4c-b80e-249a880826c3"
      },
      "execution_count": null,
      "outputs": [
        {
          "output_type": "stream",
          "name": "stdout",
          "text": [
            "Suas opções:\n",
            "[ 0 ] PEDRA\n",
            "[ 1 ] PAPEL\n",
            "[ 2 ] TESOURA\n",
            "Qual é a sua jogada? 2\n",
            "JO\n",
            "KEN\n",
            "PÔ!!!\n",
            "-=-=-=-=-=-=-=-=-=-=\n",
            "Computador jogou Papel.\n",
            "Jogador jogou Tesoura.\n",
            "-=-=-=-=-=-=-=-=-=-=\n",
            "JOGADOR VENCE\n"
          ]
        }
      ]
    },
    {
      "cell_type": "markdown",
      "source": [
        "#Desafio046 - Faça um programa que mostre na tela uma contagem regressiva para o estouro de fogos de artifício, indo de 10 até 0, com uma pausa de 1 segundo entre eles."
      ],
      "metadata": {
        "id": "YbIKrnr2l47K"
      }
    },
    {
      "cell_type": "code",
      "source": [
        "import emoji\n",
        "from time import sleep\n",
        "print('{:*^50}'.format(' Contador do Reveilon '))\n",
        "for c in range(10, -1, -1):\n",
        "  sleep(1)\n",
        "  print(c)\n",
        "print(emoji.emojize((':fireworks:')*20+' FELIZ ANO NOVO '+(':fireworks:')*20, use_aliases=True))"
      ],
      "metadata": {
        "id": "dV5wCktDl_18"
      },
      "execution_count": null,
      "outputs": []
    },
    {
      "cell_type": "markdown",
      "source": [
        "#Desafio047 - Crie um programa que mostre na tela todos os números pares que estão no intervalo entre 1 e 50."
      ],
      "metadata": {
        "id": "kvS5SBbUmNgl"
      }
    },
    {
      "cell_type": "code",
      "source": [
        "print('Identificador de números pares em um determinado intervalo!')\n",
        "inicio = int(input('Qual o número inicial do intervalo a ser pesquisado? '))\n",
        "print('INÍCIO: ', inicio)\n",
        "fim = int(input('Qual o número final do intervalo a ser pesquisado? '))\n",
        "print('FINAL: ', fim)\n",
        "passo = 1\n",
        "for c in range(inicio, fim+1, passo):\n",
        "  if c % 2 == 0:\n",
        "    print(c, end=' ')\n",
        "print('\\nEstes são os números pares contidos entre {} e {}.'.format(inicio, fim))"
      ],
      "metadata": {
        "id": "0GvaJEkymV39"
      },
      "execution_count": null,
      "outputs": []
    },
    {
      "cell_type": "markdown",
      "source": [
        "#Desafio048 - Faça um programa que calcule a soma entre todos os números ímpares\n",
        "# que são múltiplos de três\n",
        "# que se encontram no intervalo de 1 até 500."
      ],
      "metadata": {
        "id": "FoWkO_u1mgA_"
      }
    },
    {
      "cell_type": "code",
      "source": [
        "i = 3 #inicio do intervalo\n",
        "f = 500 #fim do intervalo\n",
        "p = 3 # passo (ja facilita o múltiplo de três\n",
        "s = 0 #soma inicia em 0\n",
        "q = 0 # conta quantos números correspondem a estes critérios\n",
        "\n",
        "for n in range(i, f, p):\n",
        "    if n % 3 == 0 and n % 2 != 0:\n",
        "        s = s + n\n",
        "        q = q + 1\n",
        "print('{} números são ímpares e também múltiplos de três.'.format(q))\n",
        "print('A soma desses números é igual a {}.'.format(s))"
      ],
      "metadata": {
        "id": "JsbIcQ-Nmrad"
      },
      "execution_count": null,
      "outputs": []
    },
    {
      "cell_type": "markdown",
      "source": [
        "#Desafio049 -  Refaça o DESAFIO 009, mostrando a tabuada de um número que o usuário escolher, só que agora utilizando um laço for."
      ],
      "metadata": {
        "id": "zjH3ZcsemwtP"
      }
    },
    {
      "cell_type": "code",
      "source": [
        "print('{:=^50}'.format(' Calculadora de Tabuada V2.0 '))\n",
        "n = int(input('Qual número deseja ver a tabuada? '))\n",
        "f = int(input('Até quanto deseja multiplicar? '))\n",
        "for c in range(1, f+1, 1):\n",
        "  print('{} x {:2} = \\033[1;32m{:2}\\033[m'.format(n, c, n * c))\n",
        "print('{:=^50}'.format(' Calculadora de Tabuada V2.0 '))"
      ],
      "metadata": {
        "colab": {
          "base_uri": "https://localhost:8080/"
        },
        "id": "tRmEso2_m9KO",
        "outputId": "14efb901-26cd-4d74-a1ab-95da0e6e7126"
      },
      "execution_count": 8,
      "outputs": [
        {
          "output_type": "stream",
          "name": "stdout",
          "text": [
            "========== Calculadora de Tabuada V2.0 ===========\n",
            "Qual número deseja ver a tabuada? 7\n",
            "Até quanto deseja multiplicar? 10\n",
            "7 x  1 = \u001b[1;32m 7\u001b[m\n",
            "7 x  2 = \u001b[1;32m14\u001b[m\n",
            "7 x  3 = \u001b[1;32m21\u001b[m\n",
            "7 x  4 = \u001b[1;32m28\u001b[m\n",
            "7 x  5 = \u001b[1;32m35\u001b[m\n",
            "7 x  6 = \u001b[1;32m42\u001b[m\n",
            "7 x  7 = \u001b[1;32m49\u001b[m\n",
            "7 x  8 = \u001b[1;32m56\u001b[m\n",
            "7 x  9 = \u001b[1;32m63\u001b[m\n",
            "7 x 10 = \u001b[1;32m70\u001b[m\n",
            "========== Calculadora de Tabuada V2.0 ===========\n"
          ]
        }
      ]
    },
    {
      "cell_type": "markdown",
      "source": [
        "#Desafio050 - Desenvolva um programa que leia seis números inteiros e mostre a soma apenas daqueles que forem pares. Se o valor digitado for ímpar, desconsidere-o. Uso de contador e de somatório"
      ],
      "metadata": {
        "id": "mwL6lK2UnwW5"
      }
    },
    {
      "cell_type": "code",
      "source": [
        "s = 0\n",
        "p = 0\n",
        "for c in range(0,6):\n",
        "  n = int(input('Digite um número: '))\n",
        "  #print('O {}º número digitado foi {}.'.format(c+1,n))\n",
        "  if n % 2 == 0:\n",
        "    p = p + 1\n",
        "    s = s + n\n",
        "print('A soma dos números pares que você digitou é {}.'.format(s))\n",
        "print('Você digitou {} números pares.'.format(p))"
      ],
      "metadata": {
        "id": "KJuVsQahn66f"
      },
      "execution_count": null,
      "outputs": []
    },
    {
      "cell_type": "markdown",
      "source": [
        "#Desafio051 - Desenvolva um programa que leia o primeiro termo e a razão de uma PA. No final, mostre os 10 primeiros termos dessa progressão."
      ],
      "metadata": {
        "id": "SaT8t7cloJDq"
      }
    },
    {
      "cell_type": "code",
      "source": [
        "p = int(input('Qual o primeiro termo de sua PA: '))\n",
        "r = int(input('Qual a razão de sua PA: '))\n",
        "décimo = p +(10-1) * r\n",
        "\n",
        "for c in range (p, décimo+r, r):\n",
        "   # n = p + r\n",
        "   # p = n\n",
        "    print('{}'.format(c),end = ' -> ')\n",
        "print('FIM')"
      ],
      "metadata": {
        "colab": {
          "base_uri": "https://localhost:8080/"
        },
        "id": "tMWFg5_hoT_U",
        "outputId": "323f5067-2c92-4415-bc48-a14a6d19b2a4"
      },
      "execution_count": 9,
      "outputs": [
        {
          "output_type": "stream",
          "name": "stdout",
          "text": [
            "Qual o primeiro termo de sua PA: 5\n",
            "Qual a razão de sua PA: 3\n",
            "5 -> 8 -> 11 -> 14 -> 17 -> 20 -> 23 -> 26 -> 29 -> 32 -> FIM\n"
          ]
        }
      ]
    },
    {
      "cell_type": "markdown",
      "source": [
        "#Desafio052 - Faça um programa que leia um número inteiro e diga se ele é ou não um número primo."
      ],
      "metadata": {
        "id": "fNlzP-ewom5u"
      }
    },
    {
      "cell_type": "code",
      "source": [
        "t = 0\n",
        "n = int(input('Digite um n´º inteiro para saber se ele é ou não PRIMO: '))\n",
        "for i in range(1, n+1, 1):\n",
        "  if n % i == 0:\n",
        "    print('\\033[33m{}\\033['.format(i), end = ' => ')\n",
        "    t = t+1\n",
        "  else:\n",
        "    print('\\033[31m{}\\033['.format(i), end = ' => ')\n",
        "print('FIM')\n",
        "print('O número {} é divisível por {} números.'.format(n,t))\n",
        "if t>2:\n",
        "  print('Logo, {} NÃO É UM NÚMERO PRIMO!'.format(n))\n",
        "else:\n",
        "  print('Logo, {} É UM NÚMERO PRIMO!'.format(n))\n"
      ],
      "metadata": {
        "colab": {
          "base_uri": "https://localhost:8080/"
        },
        "id": "FX8AGV65qSP4",
        "outputId": "331e9c73-10c4-42c5-be32-629619ed0531"
      },
      "execution_count": 21,
      "outputs": [
        {
          "output_type": "stream",
          "name": "stdout",
          "text": [
            "Digite um n´º inteiro para saber se ele é ou não PRIMO: 31\n",
            "\u001b[33m1\u001b[ => \u001b[31m2\u001b[ => \u001b[31m3\u001b[ => \u001b[31m4\u001b[ => \u001b[31m5\u001b[ => \u001b[31m6\u001b[ => \u001b[31m7\u001b[ => \u001b[31m8\u001b[ => \u001b[31m9\u001b[ => \u001b[31m10\u001b[ => \u001b[31m11\u001b[ => \u001b[31m12\u001b[ => \u001b[31m13\u001b[ => \u001b[31m14\u001b[ => \u001b[31m15\u001b[ => \u001b[31m16\u001b[ => \u001b[31m17\u001b[ => \u001b[31m18\u001b[ => \u001b[31m19\u001b[ => \u001b[31m20\u001b[ => \u001b[31m21\u001b[ => \u001b[31m22\u001b[ => \u001b[31m23\u001b[ => \u001b[31m24\u001b[ => \u001b[31m25\u001b[ => \u001b[31m26\u001b[ => \u001b[31m27\u001b[ => \u001b[31m28\u001b[ => \u001b[31m29\u001b[ => \u001b[31m30\u001b[ => \u001b[33m31\u001b[ => FIM\n",
            "O número 31 é divisível por 2 números.\n",
            "Logo, 31 É UM NÚMERO PRIMO!\n"
          ]
        }
      ]
    }
  ]
}